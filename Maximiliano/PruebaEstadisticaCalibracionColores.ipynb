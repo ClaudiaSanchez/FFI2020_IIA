{
 "cells": [
  {
   "cell_type": "code",
   "execution_count": 2,
   "metadata": {},
   "outputs": [],
   "source": [
    "import numpy as np\n",
    "import csv\n",
    "from scipy.stats import f_oneway"
   ]
  },
  {
   "cell_type": "code",
   "execution_count": 3,
   "metadata": {},
   "outputs": [
    {
     "data": {
      "text/plain": [
       "[array([0. , 2. , 2. , ..., 3. , 2. , 3.5]),\n",
       " array([1., 0., 1., ..., 4., 2., 1.]),\n",
       " array([1., 0., 1., ..., 4., 2., 1.]),\n",
       " array([8. , 7. , 6. , ..., 4. , 1.5, 0. ])]"
      ]
     },
     "execution_count": 3,
     "metadata": {},
     "output_type": "execute_result"
    }
   ],
   "source": [
    "methods = ['Differential Evolution','Cheung 2004','Finlayson 2015','Vandermonde']\n",
    "datos = {\"arrachera\":[], \"sirloin\":[], \"bola\":[]}\n",
    "with open('errores_calibracion_colores.csv', 'r') as file:\n",
    "    reader = csv.reader(file)\n",
    "    for row in reader:\n",
    "        datos[row[0]].append(np.array([float(item) for item in row[2:]]))\n",
    "\n",
    "datos[\"bola\"]"
   ]
  },
  {
   "cell_type": "code",
   "execution_count": 4,
   "metadata": {},
   "outputs": [
    {
     "name": "stdout",
     "output_type": "stream",
     "text": [
      "arrachera\n",
      "F_onewayResult(statistic=103.4536252868159, pvalue=9.331329371972143e-66)\n",
      "sirloin\n",
      "F_onewayResult(statistic=62.89027569943982, pvalue=3.342112901882239e-40)\n",
      "bola\n",
      "F_onewayResult(statistic=97.7914948965733, pvalue=3.2964922029789467e-62)\n"
     ]
    }
   ],
   "source": [
    "for key,value in datos.items():\n",
    "    print(key)\n",
    "    result = f_oneway(*datos[key])\n",
    "    print(result)"
   ]
  }
 ],
 "metadata": {
  "interpreter": {
   "hash": "01d61480372c2d339fbf3c54a4bedd0b4c59fa28d24ffc2397cf5219c7d40c34"
  },
  "kernelspec": {
   "display_name": "Python 3.8.12 64-bit ('base': conda)",
   "language": "python",
   "name": "python3"
  },
  "language_info": {
   "codemirror_mode": {
    "name": "ipython",
    "version": 3
   },
   "file_extension": ".py",
   "mimetype": "text/x-python",
   "name": "python",
   "nbconvert_exporter": "python",
   "pygments_lexer": "ipython3",
   "version": "3.8.12"
  },
  "orig_nbformat": 4
 },
 "nbformat": 4,
 "nbformat_minor": 2
}
