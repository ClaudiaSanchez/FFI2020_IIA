{
  "nbformat": 4,
  "nbformat_minor": 0,
  "metadata": {
    "colab": {
      "name": "ErroresSinCalibracion.ipynb",
      "provenance": [],
      "collapsed_sections": []
    },
    "kernelspec": {
      "name": "python3",
      "display_name": "Python 3"
    },
    "language_info": {
      "name": "python"
    }
  },
  "cells": [
    {
      "cell_type": "code",
      "source": [
        "!pip install -q colour-science"
      ],
      "metadata": {
        "id": "X1YiKGMPx0UF",
        "colab": {
          "base_uri": "https://localhost:8080/"
        },
        "outputId": "9c1032f3-9607-453e-fc9f-56c09b9fc5a2"
      },
      "execution_count": 1,
      "outputs": [
        {
          "output_type": "stream",
          "name": "stdout",
          "text": [
            "\u001b[?25l\r\u001b[K     |▏                               | 10 kB 19.6 MB/s eta 0:00:01\r\u001b[K     |▎                               | 20 kB 25.0 MB/s eta 0:00:01\r\u001b[K     |▌                               | 30 kB 19.8 MB/s eta 0:00:01\r\u001b[K     |▋                               | 40 kB 8.5 MB/s eta 0:00:01\r\u001b[K     |▉                               | 51 kB 8.2 MB/s eta 0:00:01\r\u001b[K     |█                               | 61 kB 9.6 MB/s eta 0:00:01\r\u001b[K     |█                               | 71 kB 8.9 MB/s eta 0:00:01\r\u001b[K     |█▎                              | 81 kB 9.2 MB/s eta 0:00:01\r\u001b[K     |█▍                              | 92 kB 10.1 MB/s eta 0:00:01\r\u001b[K     |█▋                              | 102 kB 8.7 MB/s eta 0:00:01\r\u001b[K     |█▊                              | 112 kB 8.7 MB/s eta 0:00:01\r\u001b[K     |██                              | 122 kB 8.7 MB/s eta 0:00:01\r\u001b[K     |██                              | 133 kB 8.7 MB/s eta 0:00:01\r\u001b[K     |██▏                             | 143 kB 8.7 MB/s eta 0:00:01\r\u001b[K     |██▍                             | 153 kB 8.7 MB/s eta 0:00:01\r\u001b[K     |██▌                             | 163 kB 8.7 MB/s eta 0:00:01\r\u001b[K     |██▊                             | 174 kB 8.7 MB/s eta 0:00:01\r\u001b[K     |██▉                             | 184 kB 8.7 MB/s eta 0:00:01\r\u001b[K     |███                             | 194 kB 8.7 MB/s eta 0:00:01\r\u001b[K     |███▏                            | 204 kB 8.7 MB/s eta 0:00:01\r\u001b[K     |███▎                            | 215 kB 8.7 MB/s eta 0:00:01\r\u001b[K     |███▌                            | 225 kB 8.7 MB/s eta 0:00:01\r\u001b[K     |███▋                            | 235 kB 8.7 MB/s eta 0:00:01\r\u001b[K     |███▉                            | 245 kB 8.7 MB/s eta 0:00:01\r\u001b[K     |████                            | 256 kB 8.7 MB/s eta 0:00:01\r\u001b[K     |████▏                           | 266 kB 8.7 MB/s eta 0:00:01\r\u001b[K     |████▎                           | 276 kB 8.7 MB/s eta 0:00:01\r\u001b[K     |████▍                           | 286 kB 8.7 MB/s eta 0:00:01\r\u001b[K     |████▋                           | 296 kB 8.7 MB/s eta 0:00:01\r\u001b[K     |████▊                           | 307 kB 8.7 MB/s eta 0:00:01\r\u001b[K     |█████                           | 317 kB 8.7 MB/s eta 0:00:01\r\u001b[K     |█████                           | 327 kB 8.7 MB/s eta 0:00:01\r\u001b[K     |█████▎                          | 337 kB 8.7 MB/s eta 0:00:01\r\u001b[K     |█████▍                          | 348 kB 8.7 MB/s eta 0:00:01\r\u001b[K     |█████▌                          | 358 kB 8.7 MB/s eta 0:00:01\r\u001b[K     |█████▊                          | 368 kB 8.7 MB/s eta 0:00:01\r\u001b[K     |█████▉                          | 378 kB 8.7 MB/s eta 0:00:01\r\u001b[K     |██████                          | 389 kB 8.7 MB/s eta 0:00:01\r\u001b[K     |██████▏                         | 399 kB 8.7 MB/s eta 0:00:01\r\u001b[K     |██████▎                         | 409 kB 8.7 MB/s eta 0:00:01\r\u001b[K     |██████▌                         | 419 kB 8.7 MB/s eta 0:00:01\r\u001b[K     |██████▋                         | 430 kB 8.7 MB/s eta 0:00:01\r\u001b[K     |██████▉                         | 440 kB 8.7 MB/s eta 0:00:01\r\u001b[K     |███████                         | 450 kB 8.7 MB/s eta 0:00:01\r\u001b[K     |███████▏                        | 460 kB 8.7 MB/s eta 0:00:01\r\u001b[K     |███████▎                        | 471 kB 8.7 MB/s eta 0:00:01\r\u001b[K     |███████▍                        | 481 kB 8.7 MB/s eta 0:00:01\r\u001b[K     |███████▋                        | 491 kB 8.7 MB/s eta 0:00:01\r\u001b[K     |███████▊                        | 501 kB 8.7 MB/s eta 0:00:01\r\u001b[K     |████████                        | 512 kB 8.7 MB/s eta 0:00:01\r\u001b[K     |████████                        | 522 kB 8.7 MB/s eta 0:00:01\r\u001b[K     |████████▎                       | 532 kB 8.7 MB/s eta 0:00:01\r\u001b[K     |████████▍                       | 542 kB 8.7 MB/s eta 0:00:01\r\u001b[K     |████████▌                       | 552 kB 8.7 MB/s eta 0:00:01\r\u001b[K     |████████▊                       | 563 kB 8.7 MB/s eta 0:00:01\r\u001b[K     |████████▉                       | 573 kB 8.7 MB/s eta 0:00:01\r\u001b[K     |█████████                       | 583 kB 8.7 MB/s eta 0:00:01\r\u001b[K     |█████████▏                      | 593 kB 8.7 MB/s eta 0:00:01\r\u001b[K     |█████████▍                      | 604 kB 8.7 MB/s eta 0:00:01\r\u001b[K     |█████████▌                      | 614 kB 8.7 MB/s eta 0:00:01\r\u001b[K     |█████████▋                      | 624 kB 8.7 MB/s eta 0:00:01\r\u001b[K     |█████████▉                      | 634 kB 8.7 MB/s eta 0:00:01\r\u001b[K     |██████████                      | 645 kB 8.7 MB/s eta 0:00:01\r\u001b[K     |██████████▏                     | 655 kB 8.7 MB/s eta 0:00:01\r\u001b[K     |██████████▎                     | 665 kB 8.7 MB/s eta 0:00:01\r\u001b[K     |██████████▌                     | 675 kB 8.7 MB/s eta 0:00:01\r\u001b[K     |██████████▋                     | 686 kB 8.7 MB/s eta 0:00:01\r\u001b[K     |██████████▊                     | 696 kB 8.7 MB/s eta 0:00:01\r\u001b[K     |███████████                     | 706 kB 8.7 MB/s eta 0:00:01\r\u001b[K     |███████████                     | 716 kB 8.7 MB/s eta 0:00:01\r\u001b[K     |███████████▎                    | 727 kB 8.7 MB/s eta 0:00:01\r\u001b[K     |███████████▍                    | 737 kB 8.7 MB/s eta 0:00:01\r\u001b[K     |███████████▌                    | 747 kB 8.7 MB/s eta 0:00:01\r\u001b[K     |███████████▊                    | 757 kB 8.7 MB/s eta 0:00:01\r\u001b[K     |███████████▉                    | 768 kB 8.7 MB/s eta 0:00:01\r\u001b[K     |████████████                    | 778 kB 8.7 MB/s eta 0:00:01\r\u001b[K     |████████████▏                   | 788 kB 8.7 MB/s eta 0:00:01\r\u001b[K     |████████████▍                   | 798 kB 8.7 MB/s eta 0:00:01\r\u001b[K     |████████████▌                   | 808 kB 8.7 MB/s eta 0:00:01\r\u001b[K     |████████████▋                   | 819 kB 8.7 MB/s eta 0:00:01\r\u001b[K     |████████████▉                   | 829 kB 8.7 MB/s eta 0:00:01\r\u001b[K     |█████████████                   | 839 kB 8.7 MB/s eta 0:00:01\r\u001b[K     |█████████████▏                  | 849 kB 8.7 MB/s eta 0:00:01\r\u001b[K     |█████████████▎                  | 860 kB 8.7 MB/s eta 0:00:01\r\u001b[K     |█████████████▌                  | 870 kB 8.7 MB/s eta 0:00:01\r\u001b[K     |█████████████▋                  | 880 kB 8.7 MB/s eta 0:00:01\r\u001b[K     |█████████████▊                  | 890 kB 8.7 MB/s eta 0:00:01\r\u001b[K     |██████████████                  | 901 kB 8.7 MB/s eta 0:00:01\r\u001b[K     |██████████████                  | 911 kB 8.7 MB/s eta 0:00:01\r\u001b[K     |██████████████▎                 | 921 kB 8.7 MB/s eta 0:00:01\r\u001b[K     |██████████████▍                 | 931 kB 8.7 MB/s eta 0:00:01\r\u001b[K     |██████████████▋                 | 942 kB 8.7 MB/s eta 0:00:01\r\u001b[K     |██████████████▊                 | 952 kB 8.7 MB/s eta 0:00:01\r\u001b[K     |██████████████▉                 | 962 kB 8.7 MB/s eta 0:00:01\r\u001b[K     |███████████████                 | 972 kB 8.7 MB/s eta 0:00:01\r\u001b[K     |███████████████▏                | 983 kB 8.7 MB/s eta 0:00:01\r\u001b[K     |███████████████▍                | 993 kB 8.7 MB/s eta 0:00:01\r\u001b[K     |███████████████▌                | 1.0 MB 8.7 MB/s eta 0:00:01\r\u001b[K     |███████████████▊                | 1.0 MB 8.7 MB/s eta 0:00:01\r\u001b[K     |███████████████▉                | 1.0 MB 8.7 MB/s eta 0:00:01\r\u001b[K     |████████████████                | 1.0 MB 8.7 MB/s eta 0:00:01\r\u001b[K     |████████████████▏               | 1.0 MB 8.7 MB/s eta 0:00:01\r\u001b[K     |████████████████▎               | 1.1 MB 8.7 MB/s eta 0:00:01\r\u001b[K     |████████████████▌               | 1.1 MB 8.7 MB/s eta 0:00:01\r\u001b[K     |████████████████▋               | 1.1 MB 8.7 MB/s eta 0:00:01\r\u001b[K     |████████████████▉               | 1.1 MB 8.7 MB/s eta 0:00:01\r\u001b[K     |█████████████████               | 1.1 MB 8.7 MB/s eta 0:00:01\r\u001b[K     |█████████████████               | 1.1 MB 8.7 MB/s eta 0:00:01\r\u001b[K     |█████████████████▎              | 1.1 MB 8.7 MB/s eta 0:00:01\r\u001b[K     |█████████████████▍              | 1.1 MB 8.7 MB/s eta 0:00:01\r\u001b[K     |█████████████████▋              | 1.1 MB 8.7 MB/s eta 0:00:01\r\u001b[K     |█████████████████▊              | 1.1 MB 8.7 MB/s eta 0:00:01\r\u001b[K     |█████████████████▉              | 1.2 MB 8.7 MB/s eta 0:00:01\r\u001b[K     |██████████████████              | 1.2 MB 8.7 MB/s eta 0:00:01\r\u001b[K     |██████████████████▏             | 1.2 MB 8.7 MB/s eta 0:00:01\r\u001b[K     |██████████████████▍             | 1.2 MB 8.7 MB/s eta 0:00:01\r\u001b[K     |██████████████████▌             | 1.2 MB 8.7 MB/s eta 0:00:01\r\u001b[K     |██████████████████▊             | 1.2 MB 8.7 MB/s eta 0:00:01\r\u001b[K     |██████████████████▉             | 1.2 MB 8.7 MB/s eta 0:00:01\r\u001b[K     |███████████████████             | 1.2 MB 8.7 MB/s eta 0:00:01\r\u001b[K     |███████████████████▏            | 1.2 MB 8.7 MB/s eta 0:00:01\r\u001b[K     |███████████████████▎            | 1.2 MB 8.7 MB/s eta 0:00:01\r\u001b[K     |███████████████████▌            | 1.3 MB 8.7 MB/s eta 0:00:01\r\u001b[K     |███████████████████▋            | 1.3 MB 8.7 MB/s eta 0:00:01\r\u001b[K     |███████████████████▉            | 1.3 MB 8.7 MB/s eta 0:00:01\r\u001b[K     |████████████████████            | 1.3 MB 8.7 MB/s eta 0:00:01\r\u001b[K     |████████████████████            | 1.3 MB 8.7 MB/s eta 0:00:01\r\u001b[K     |████████████████████▎           | 1.3 MB 8.7 MB/s eta 0:00:01\r\u001b[K     |████████████████████▍           | 1.3 MB 8.7 MB/s eta 0:00:01\r\u001b[K     |████████████████████▋           | 1.3 MB 8.7 MB/s eta 0:00:01\r\u001b[K     |████████████████████▊           | 1.3 MB 8.7 MB/s eta 0:00:01\r\u001b[K     |█████████████████████           | 1.4 MB 8.7 MB/s eta 0:00:01\r\u001b[K     |█████████████████████           | 1.4 MB 8.7 MB/s eta 0:00:01\r\u001b[K     |█████████████████████▏          | 1.4 MB 8.7 MB/s eta 0:00:01\r\u001b[K     |█████████████████████▍          | 1.4 MB 8.7 MB/s eta 0:00:01\r\u001b[K     |█████████████████████▌          | 1.4 MB 8.7 MB/s eta 0:00:01\r\u001b[K     |█████████████████████▊          | 1.4 MB 8.7 MB/s eta 0:00:01\r\u001b[K     |█████████████████████▉          | 1.4 MB 8.7 MB/s eta 0:00:01\r\u001b[K     |██████████████████████          | 1.4 MB 8.7 MB/s eta 0:00:01\r\u001b[K     |██████████████████████▏         | 1.4 MB 8.7 MB/s eta 0:00:01\r\u001b[K     |██████████████████████▎         | 1.4 MB 8.7 MB/s eta 0:00:01\r\u001b[K     |██████████████████████▌         | 1.5 MB 8.7 MB/s eta 0:00:01\r\u001b[K     |██████████████████████▋         | 1.5 MB 8.7 MB/s eta 0:00:01\r\u001b[K     |██████████████████████▉         | 1.5 MB 8.7 MB/s eta 0:00:01\r\u001b[K     |███████████████████████         | 1.5 MB 8.7 MB/s eta 0:00:01\r\u001b[K     |███████████████████████         | 1.5 MB 8.7 MB/s eta 0:00:01\r\u001b[K     |███████████████████████▎        | 1.5 MB 8.7 MB/s eta 0:00:01\r\u001b[K     |███████████████████████▍        | 1.5 MB 8.7 MB/s eta 0:00:01\r\u001b[K     |███████████████████████▋        | 1.5 MB 8.7 MB/s eta 0:00:01\r\u001b[K     |███████████████████████▊        | 1.5 MB 8.7 MB/s eta 0:00:01\r\u001b[K     |████████████████████████        | 1.5 MB 8.7 MB/s eta 0:00:01\r\u001b[K     |████████████████████████        | 1.6 MB 8.7 MB/s eta 0:00:01\r\u001b[K     |████████████████████████▏       | 1.6 MB 8.7 MB/s eta 0:00:01\r\u001b[K     |████████████████████████▍       | 1.6 MB 8.7 MB/s eta 0:00:01\r\u001b[K     |████████████████████████▌       | 1.6 MB 8.7 MB/s eta 0:00:01\r\u001b[K     |████████████████████████▊       | 1.6 MB 8.7 MB/s eta 0:00:01\r\u001b[K     |████████████████████████▉       | 1.6 MB 8.7 MB/s eta 0:00:01\r\u001b[K     |█████████████████████████       | 1.6 MB 8.7 MB/s eta 0:00:01\r\u001b[K     |█████████████████████████▏      | 1.6 MB 8.7 MB/s eta 0:00:01\r\u001b[K     |█████████████████████████▎      | 1.6 MB 8.7 MB/s eta 0:00:01\r\u001b[K     |█████████████████████████▌      | 1.6 MB 8.7 MB/s eta 0:00:01\r\u001b[K     |█████████████████████████▋      | 1.7 MB 8.7 MB/s eta 0:00:01\r\u001b[K     |█████████████████████████▉      | 1.7 MB 8.7 MB/s eta 0:00:01\r\u001b[K     |██████████████████████████      | 1.7 MB 8.7 MB/s eta 0:00:01\r\u001b[K     |██████████████████████████▏     | 1.7 MB 8.7 MB/s eta 0:00:01\r\u001b[K     |██████████████████████████▎     | 1.7 MB 8.7 MB/s eta 0:00:01\r\u001b[K     |██████████████████████████▍     | 1.7 MB 8.7 MB/s eta 0:00:01\r\u001b[K     |██████████████████████████▋     | 1.7 MB 8.7 MB/s eta 0:00:01\r\u001b[K     |██████████████████████████▊     | 1.7 MB 8.7 MB/s eta 0:00:01\r\u001b[K     |███████████████████████████     | 1.7 MB 8.7 MB/s eta 0:00:01\r\u001b[K     |███████████████████████████     | 1.8 MB 8.7 MB/s eta 0:00:01\r\u001b[K     |███████████████████████████▎    | 1.8 MB 8.7 MB/s eta 0:00:01\r\u001b[K     |███████████████████████████▍    | 1.8 MB 8.7 MB/s eta 0:00:01\r\u001b[K     |███████████████████████████▌    | 1.8 MB 8.7 MB/s eta 0:00:01\r\u001b[K     |███████████████████████████▊    | 1.8 MB 8.7 MB/s eta 0:00:01\r\u001b[K     |███████████████████████████▉    | 1.8 MB 8.7 MB/s eta 0:00:01\r\u001b[K     |████████████████████████████    | 1.8 MB 8.7 MB/s eta 0:00:01\r\u001b[K     |████████████████████████████▏   | 1.8 MB 8.7 MB/s eta 0:00:01\r\u001b[K     |████████████████████████████▎   | 1.8 MB 8.7 MB/s eta 0:00:01\r\u001b[K     |████████████████████████████▌   | 1.8 MB 8.7 MB/s eta 0:00:01\r\u001b[K     |████████████████████████████▋   | 1.9 MB 8.7 MB/s eta 0:00:01\r\u001b[K     |████████████████████████████▉   | 1.9 MB 8.7 MB/s eta 0:00:01\r\u001b[K     |█████████████████████████████   | 1.9 MB 8.7 MB/s eta 0:00:01\r\u001b[K     |█████████████████████████████▏  | 1.9 MB 8.7 MB/s eta 0:00:01\r\u001b[K     |█████████████████████████████▎  | 1.9 MB 8.7 MB/s eta 0:00:01\r\u001b[K     |█████████████████████████████▍  | 1.9 MB 8.7 MB/s eta 0:00:01\r\u001b[K     |█████████████████████████████▋  | 1.9 MB 8.7 MB/s eta 0:00:01\r\u001b[K     |█████████████████████████████▊  | 1.9 MB 8.7 MB/s eta 0:00:01\r\u001b[K     |██████████████████████████████  | 1.9 MB 8.7 MB/s eta 0:00:01\r\u001b[K     |██████████████████████████████  | 1.9 MB 8.7 MB/s eta 0:00:01\r\u001b[K     |██████████████████████████████▎ | 2.0 MB 8.7 MB/s eta 0:00:01\r\u001b[K     |██████████████████████████████▍ | 2.0 MB 8.7 MB/s eta 0:00:01\r\u001b[K     |██████████████████████████████▌ | 2.0 MB 8.7 MB/s eta 0:00:01\r\u001b[K     |██████████████████████████████▊ | 2.0 MB 8.7 MB/s eta 0:00:01\r\u001b[K     |██████████████████████████████▉ | 2.0 MB 8.7 MB/s eta 0:00:01\r\u001b[K     |███████████████████████████████ | 2.0 MB 8.7 MB/s eta 0:00:01\r\u001b[K     |███████████████████████████████▏| 2.0 MB 8.7 MB/s eta 0:00:01\r\u001b[K     |███████████████████████████████▍| 2.0 MB 8.7 MB/s eta 0:00:01\r\u001b[K     |███████████████████████████████▌| 2.0 MB 8.7 MB/s eta 0:00:01\r\u001b[K     |███████████████████████████████▋| 2.0 MB 8.7 MB/s eta 0:00:01\r\u001b[K     |███████████████████████████████▉| 2.1 MB 8.7 MB/s eta 0:00:01\r\u001b[K     |████████████████████████████████| 2.1 MB 8.7 MB/s eta 0:00:01\r\u001b[K     |████████████████████████████████| 2.1 MB 8.7 MB/s \n",
            "\u001b[?25h"
          ]
        }
      ]
    },
    {
      "cell_type": "code",
      "execution_count": 2,
      "metadata": {
        "id": "ZXmX0TUou9Ex"
      },
      "outputs": [],
      "source": [
        "import os\n",
        "import cv2\n",
        "import numpy as np\n",
        "import matplotlib.pyplot as plt\n",
        "from copy import deepcopy\n",
        "import csv\n",
        "import colour\n",
        "from scipy.optimize import differential_evolution"
      ]
    },
    {
      "cell_type": "code",
      "source": [
        "root_directory = \"/content/drive/MyDrive/Mi_FFI/CalibracionBienOrganizado\""
      ],
      "metadata": {
        "id": "ZfVpGTMhKUyv"
      },
      "execution_count": 3,
      "outputs": []
    },
    {
      "cell_type": "code",
      "source": [
        "# Define the path of the images folder\n",
        "folder_img_carne = root_directory+\"/imagenes_carne\"\n",
        "folder_img_paleta = root_directory+\"/imagenes_paletas\""
      ],
      "metadata": {
        "id": "XdDWIZNDwPry"
      },
      "execution_count": 4,
      "outputs": []
    },
    {
      "cell_type": "code",
      "source": [
        "def find_circles(paleta):\n",
        "    \"\"\"\n",
        "    Finds circles in the given palette image\n",
        "    Returns the (x,y) coordinates and the radius of each circle\n",
        "    \"\"\"\n",
        "    gray = cv2.cvtColor(paleta, cv2.COLOR_RGB2GRAY)\n",
        "    detected_circles = cv2.HoughCircles(gray, \n",
        "                        cv2.HOUGH_GRADIENT, 1, 20, param1 = 100,\n",
        "                    param2 = 25, minRadius = 1, maxRadius = 25)\n",
        "\n",
        "    if detected_circles is not None:\n",
        "        detected_circles = np.uint16(np.around(detected_circles))\n",
        "\n",
        "    return detected_circles[0]\n",
        "\n",
        "def getColorsMatrix(paleta,detected_circles):\n",
        "    \"\"\"\n",
        "    Gets the median of the color of each circle\n",
        "    Returns median RGB values for each circle in the image\n",
        "    \"\"\"\n",
        "    my_circles = deepcopy(detected_circles)\n",
        "    circles_column_idx = np.argsort(my_circles[:,0])\n",
        "    circ_sorted_x = deepcopy(my_circles[circles_column_idx,:])\n",
        "\n",
        "    circ_split = np.array_split(circ_sorted_x,4)\n",
        "\n",
        "    circ_sorted_y = np.zeros_like(circ_split)\n",
        "    for k in range(len(circ_split)):\n",
        "        circles_row_idx = np.argsort(circ_split[k][:,1])\n",
        "        circ_sorted_y[k] = deepcopy(circ_split[k][circles_row_idx,:])\n",
        "    \n",
        "    rows,cols,_ = circ_sorted_y.shape\n",
        "    my_circles = np.reshape(circ_sorted_y,(rows*cols,_))\n",
        "\n",
        "    median_array = np.zeros((len(my_circles),3))\n",
        "    for k in range(len(my_circles)):\n",
        "        (x,y,r) = my_circles[k]\n",
        "        \n",
        "        median_r = np.median(paleta[y-(r//2):y+(r//2),x-(r//2):x+(r//2),0])\n",
        "        median_g = np.median(paleta[y-(r//2):y+(r//2),x-(r//2):x+(r//2),1])\n",
        "        median_b = np.median(paleta[y-(r//2):y+(r//2),x-(r//2):x+(r//2),2])\n",
        "        \n",
        "        median_array[k] = (median_r,median_g,median_b)\n",
        "    \n",
        "    return my_circles,median_array"
      ],
      "metadata": {
        "id": "-rU2nrXXwhoM"
      },
      "execution_count": 5,
      "outputs": []
    },
    {
      "cell_type": "code",
      "source": [
        "# List all the meat images\n",
        "files = os.listdir(folder_img_carne)\n",
        "files[:5]"
      ],
      "metadata": {
        "colab": {
          "base_uri": "https://localhost:8080/"
        },
        "id": "kh7FRZ5jyVn8",
        "outputId": "95296ca9-8c6b-4c1b-bfa5-cb4e495bf3f6"
      },
      "execution_count": 6,
      "outputs": [
        {
          "output_type": "execute_result",
          "data": {
            "text/plain": [
              "['20210908_S01_9_c.JPG',\n",
              " '20210910_S01_7_c.JPG',\n",
              " '20210910_S01_6_c.JPG',\n",
              " '20210910_S01_8_c.JPG',\n",
              " '20210910_S01_9_c.JPG']"
            ]
          },
          "metadata": {},
          "execution_count": 6
        }
      ]
    },
    {
      "cell_type": "markdown",
      "source": [
        "## NOTA: la paleta de calibración debe de estar en la misma carpeta que las paletas de muestra"
      ],
      "metadata": {
        "id": "Nkfyc5i6TpEO"
      }
    },
    {
      "cell_type": "code",
      "source": [
        "# Read the calibration palette\n",
        "paleta_calibracion = cv2.imread(folder_img_paleta+\"/CALIBRACION.JPG\")\n",
        "paleta_calibracion = cv2.cvtColor(paleta_calibracion,cv2.COLOR_BGR2RGB)\n",
        "# Detect the circles in the calibration palette\n",
        "detected_circles = find_circles(paleta_calibracion)\n",
        "# Get the median of each color in the calibration palette\n",
        "circles_cal,median_cal = getColorsMatrix(paleta_calibracion,detected_circles)\n",
        "median_cal = median_cal.astype(\"float\")\n",
        "median_cal"
      ],
      "metadata": {
        "colab": {
          "base_uri": "https://localhost:8080/"
        },
        "id": "HA0-4EcB-L-8",
        "outputId": "fcf0be98-47c1-4edc-bd25-6f0ca29c3556"
      },
      "execution_count": 7,
      "outputs": [
        {
          "output_type": "execute_result",
          "data": {
            "text/plain": [
              "array([[ 188. ,  190. ,  203. ],\n",
              "       [ 148. ,  151. ,  171. ],\n",
              "       [ 122. ,  121.5,  137. ],\n",
              "       [  97. ,   95. ,  109. ],\n",
              "       [  72. ,   71. ,   83.5],\n",
              "       [  57. ,   55. ,   65.5],\n",
              "       [ 158. ,   96. ,   96. ],\n",
              "       [ 146. ,   86. ,   91. ],\n",
              "       [ 129. ,   73. ,   80.5],\n",
              "       [ 120. ,   72. ,   77. ],\n",
              "       [ 114. ,   68. ,   80. ],\n",
              "       [ 106. ,   71. ,   75. ],\n",
              "       [ 159. ,  107. ,   71. ],\n",
              "       [  73. ,   84. ,  155. ],\n",
              "       [ 157. ,   87. ,  106. ],\n",
              "       [  86. ,   69. ,  107. ],\n",
              "       [ 112. ,  149. ,   79. ],\n",
              "       [ 167. ,  140. ,   71. ],\n",
              "       [ 177. ,   76. ,   87. ],\n",
              "       [  77. ,  151. ,   94. ],\n",
              "       [  72. ,   85. ,  157. ],\n",
              "       [ 170. ,  166. ,   71. ],\n",
              "       [ 157. ,   85. ,  136. ],\n",
              "       [  64. ,  111. ,  160. ]])"
            ]
          },
          "metadata": {},
          "execution_count": 7
        }
      ]
    },
    {
      "cell_type": "markdown",
      "source": [
        "## Errores de calibración"
      ],
      "metadata": {
        "id": "2pnfE2RlfvCD"
      }
    },
    {
      "cell_type": "code",
      "source": [
        "carnes = {\n",
        "    \"arrachera\":[file for file in files if file.split('_')[1]==\"A01\"],\n",
        "    \"sirloin\":[file for file in files if file.split('_')[1]==\"S01\"],\n",
        "    \"bola\":[file for file in files if file.split('_')[1]==\"B01\"]\n",
        "}"
      ],
      "metadata": {
        "id": "TpOar5uxiJeD"
      },
      "execution_count": 8,
      "outputs": []
    },
    {
      "cell_type": "code",
      "source": [
        "if not os.path.exists(root_directory+\"/Errores\"):\n",
        "    os.mkdir(root_directory+\"/Errores\")\n",
        "\n",
        "for tipo_carne,archivos in carnes.items():\n",
        "    if len(archivos)==0:\n",
        "        continue\n",
        "    print(tipo_carne)\n",
        "    if os.path.exists(root_directory+\"/Errores/\"+tipo_carne+\".csv\"):\n",
        "        os.remove(root_directory+\"/Errores/\"+tipo_carne+\".csv\")\n",
        "    \n",
        "    diff_median = np.zeros((len(archivos),24,3),dtype=float) # Differences between each sample image and the calibration image\n",
        "    for k,filename in enumerate(archivos):\n",
        "        img_paleta = cv2.imread(folder_img_paleta+'/'+filename,cv2.IMREAD_COLOR)\n",
        "        img_paleta = cv2.cvtColor(img_paleta,cv2.COLOR_BGR2RGB)\n",
        "\n",
        "        detected_circles = find_circles(img_paleta)\n",
        "        if len(detected_circles) != 24:\n",
        "            print(\"There are not 24 circles in the image\")\n",
        "            print(file)\n",
        "            break\n",
        "\n",
        "        circles_p,median_p = getColorsMatrix(img_paleta,detected_circles)\n",
        "\n",
        "        diff_median[k] = np.abs(median_cal-median_p)\n",
        "        \n",
        "    flattened = diff_median.flatten()\n",
        "    with open(root_directory+\"/Errores/\"+tipo_carne+\".csv\",\"a\") as file:\n",
        "        file.write(\",\".join(flattened.astype(\"str\")))\n",
        "        file.write(\"\\n\")\n",
        "    \n",
        "    plt.figure(figsize=(5,5))\n",
        "    plt.title(\"Error: \"+str(np.average(flattened)))\n",
        "    plt.boxplot(flattened)\n",
        "    plt.show()\n",
        "\n",
        "    "
      ],
      "metadata": {
        "colab": {
          "base_uri": "https://localhost:8080/",
          "height": 1000
        },
        "id": "udiscegQ_Fvi",
        "outputId": "bc1189f3-456f-4c51-bc87-6d090ee65eac"
      },
      "execution_count": 10,
      "outputs": [
        {
          "output_type": "stream",
          "name": "stdout",
          "text": [
            "arrachera\n"
          ]
        },
        {
          "output_type": "display_data",
          "data": {
            "text/plain": [
              "<Figure size 360x360 with 1 Axes>"
            ],
            "image/png": "[encoded data removed]"
          },
          "metadata": {
            "needs_background": "light"
          }
        },
        {
          "output_type": "stream",
          "name": "stdout",
          "text": [
            "sirloin\n"
          ]
        },
        {
          "output_type": "display_data",
          "data": {
            "text/plain": [
              "<Figure size 360x360 with 1 Axes>"
            ],
            "image/png": "[encoded data removed]"
          },
          "metadata": {
            "needs_background": "light"
          }
        },
        {
          "output_type": "stream",
          "name": "stdout",
          "text": [
            "bola\n"
          ]
        },
        {
          "output_type": "display_data",
          "data": {
            "text/plain": [
              "<Figure size 360x360 with 1 Axes>"
            ],
            "image/png": "[encoded data removed]"
          },
          "metadata": {
            "needs_background": "light"
          }
        }
      ]
    }
  ]
}