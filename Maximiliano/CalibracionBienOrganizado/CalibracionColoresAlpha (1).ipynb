{
  "nbformat": 4,
  "nbformat_minor": 0,
  "metadata": {
    "colab": {
      "name": "CalibracionColoresAlpha.ipynb",
      "provenance": [],
      "collapsed_sections": []
    },
    "kernelspec": {
      "name": "python3",
      "display_name": "Python 3"
    },
    "language_info": {
      "name": "python"
    }
  },
  "cells": [
    {
      "cell_type": "code",
      "source": [
        "!pip install -q colour-science"
      ],
      "metadata": {
        "id": "X1YiKGMPx0UF"
      },
      "execution_count": 1,
      "outputs": []
    },
    {
      "cell_type": "code",
      "execution_count": 2,
      "metadata": {
        "id": "ZXmX0TUou9Ex"
      },
      "outputs": [],
      "source": [
        "import os\n",
        "import cv2\n",
        "import numpy as np\n",
        "import matplotlib.pyplot as plt\n",
        "from copy import deepcopy\n",
        "import csv\n",
        "import colour\n",
        "from scipy.optimize import differential_evolution"
      ]
    },
    {
      "cell_type": "code",
      "source": [
        "root_directory = \"/content/drive/MyDrive/Mi_FFI/CalibracionBienOrganizado\""
      ],
      "metadata": {
        "id": "ZfVpGTMhKUyv"
      },
      "execution_count": 3,
      "outputs": []
    },
    {
      "cell_type": "code",
      "source": [
        "# Define the path of the images folder\n",
        "folder_img_carne = root_directory+\"/pocas_imagenes\"\n",
        "folder_img_paleta = root_directory+\"/nuevas_paletas\"\n",
        "\n",
        "# Set the target folder for the calibrated images\n",
        "folder_img_cal = root_directory+\"/imagenes_calibradas\"\n",
        "folder_pal_cal = root_directory+\"/paletas_calibradas\"\n",
        "\n",
        "if not os.path.exists(folder_img_cal):\n",
        "    os.mkdir(folder_img_cal)\n",
        "\n",
        "if not os.path.exists(folder_pal_cal):\n",
        "    os.mkdir(folder_pal_cal)"
      ],
      "metadata": {
        "id": "XdDWIZNDwPry"
      },
      "execution_count": 4,
      "outputs": []
    },
    {
      "cell_type": "code",
      "source": [
        "def find_circles(paleta):\n",
        "    \"\"\"\n",
        "    Finds circles in the given palette image\n",
        "    Returns the (x,y) coordinates and the radius of each circle\n",
        "    \"\"\"\n",
        "    gray = cv2.cvtColor(paleta, cv2.COLOR_RGB2GRAY)\n",
        "    detected_circles = cv2.HoughCircles(gray, \n",
        "                        cv2.HOUGH_GRADIENT, 1, 20, param1 = 100,\n",
        "                    param2 = 25, minRadius = 1, maxRadius = 25)\n",
        "\n",
        "    if detected_circles is not None:\n",
        "        detected_circles = np.uint16(np.around(detected_circles))\n",
        "\n",
        "    return detected_circles[0]\n",
        "\n",
        "def getColorsMatrix(paleta,detected_circles):\n",
        "    \"\"\"\n",
        "    Gets the median of the color of each circle\n",
        "    Returns median RGB values for each circle in the image\n",
        "    \"\"\"\n",
        "    my_circles = deepcopy(detected_circles)\n",
        "    circles_column_idx = np.argsort(my_circles[:,0])\n",
        "    circ_sorted_x = deepcopy(my_circles[circles_column_idx,:])\n",
        "\n",
        "    circ_split = np.array_split(circ_sorted_x,4)\n",
        "\n",
        "    circ_sorted_y = np.zeros_like(circ_split)\n",
        "    for k in range(len(circ_split)):\n",
        "        circles_row_idx = np.argsort(circ_split[k][:,1])\n",
        "        circ_sorted_y[k] = deepcopy(circ_split[k][circles_row_idx,:])\n",
        "    \n",
        "    rows,cols,_ = circ_sorted_y.shape\n",
        "    my_circles = np.reshape(circ_sorted_y,(rows*cols,_))\n",
        "\n",
        "    median_array = np.zeros((len(my_circles),3))\n",
        "    for k in range(len(my_circles)):\n",
        "        (x,y,r) = my_circles[k]\n",
        "        \n",
        "        median_r = np.median(paleta[y-(r//2):y+(r//2),x-(r//2):x+(r//2),0])\n",
        "        median_g = np.median(paleta[y-(r//2):y+(r//2),x-(r//2):x+(r//2),1])\n",
        "        median_b = np.median(paleta[y-(r//2):y+(r//2),x-(r//2):x+(r//2),2])\n",
        "        \n",
        "        median_array[k] = (median_r,median_g,median_b)\n",
        "    \n",
        "    return my_circles,median_array"
      ],
      "metadata": {
        "id": "-rU2nrXXwhoM"
      },
      "execution_count": 5,
      "outputs": []
    },
    {
      "cell_type": "code",
      "source": [
        "def error(ind,median_p,median_cal):\n",
        "    \"\"\"\n",
        "    Gets the error between the transformed sample palette and the calibration palette\n",
        "    Returns the individual fitness\n",
        "    \"\"\"\n",
        "    ind = np.reshape(ind,(3,3))\n",
        "    return np.sum(np.abs(median_cal-np.dot(median_p,ind)))"
      ],
      "metadata": {
        "id": "ACmteq8_xSl1"
      },
      "execution_count": 6,
      "outputs": []
    },
    {
      "cell_type": "code",
      "source": [
        "# List all the meat images\n",
        "files = os.listdir(folder_img_carne)\n",
        "files[:5]"
      ],
      "metadata": {
        "colab": {
          "base_uri": "https://localhost:8080/"
        },
        "id": "kh7FRZ5jyVn8",
        "outputId": "cbc33952-81e9-4bf3-d085-b274dc414b97"
      },
      "execution_count": 7,
      "outputs": [
        {
          "output_type": "execute_result",
          "data": {
            "text/plain": [
              "['20210906_S01_1_c.JPG',\n",
              " '20210906_S01_2_c.JPG',\n",
              " '20210906_S01_3_c.JPG',\n",
              " '20210906_S01_4_c.JPG',\n",
              " '20210906_S01_5_c.JPG']"
            ]
          },
          "metadata": {},
          "execution_count": 7
        }
      ]
    },
    {
      "cell_type": "code",
      "source": [
        "# Show the available methods and ours\n",
        "methods = sorted(colour.COLOUR_CORRECTION_METHODS.keys())\n",
        "print(methods)\n",
        "methods.append(\"Differential Evolution\")\n",
        "print(methods)"
      ],
      "metadata": {
        "colab": {
          "base_uri": "https://localhost:8080/"
        },
        "id": "AJldEaHZVZb2",
        "outputId": "5b6f2345-9542-48f1-d1e3-d8a9bf43b0ca"
      },
      "execution_count": 8,
      "outputs": [
        {
          "output_type": "stream",
          "name": "stdout",
          "text": [
            "['Cheung 2004', 'Finlayson 2015', 'Vandermonde']\n",
            "['Cheung 2004', 'Finlayson 2015', 'Vandermonde', 'Differential Evolution']\n"
          ]
        }
      ]
    },
    {
      "cell_type": "markdown",
      "source": [
        "## NOTA: la paleta de calibración debe de estar en la misma carpeta que las paletas de muestra"
      ],
      "metadata": {
        "id": "Nkfyc5i6TpEO"
      }
    },
    {
      "cell_type": "code",
      "source": [
        "# Read the calibration palette\n",
        "paleta_calibracion = cv2.imread(folder_img_paleta+\"/CALIBRACION.JPG\")\n",
        "paleta_calibracion = cv2.cvtColor(paleta_calibracion,cv2.COLOR_BGR2RGB)\n",
        "# Detect the circles in the calibration palette\n",
        "detected_circles = find_circles(paleta_calibracion)\n",
        "# Get the median of each color in the calibration palette\n",
        "circles_cal,median_cal = getColorsMatrix(paleta_calibracion,detected_circles)\n",
        "median_cal = median_cal.astype(\"float\")\n",
        "median_cal"
      ],
      "metadata": {
        "colab": {
          "base_uri": "https://localhost:8080/"
        },
        "id": "HA0-4EcB-L-8",
        "outputId": "b846e316-887d-4ee1-bd6f-c27d339e0ac4"
      },
      "execution_count": 9,
      "outputs": [
        {
          "output_type": "execute_result",
          "data": {
            "text/plain": [
              "array([[ 188. ,  190. ,  203. ],\n",
              "       [ 148. ,  151. ,  171. ],\n",
              "       [ 122. ,  121.5,  137. ],\n",
              "       [  97. ,   95. ,  109. ],\n",
              "       [  72. ,   71. ,   83.5],\n",
              "       [  57. ,   55. ,   65.5],\n",
              "       [ 158. ,   96. ,   96. ],\n",
              "       [ 146. ,   86. ,   91. ],\n",
              "       [ 129. ,   73. ,   80.5],\n",
              "       [ 120. ,   72. ,   77. ],\n",
              "       [ 114. ,   68. ,   80. ],\n",
              "       [ 106. ,   71. ,   75. ],\n",
              "       [ 159. ,  107. ,   71. ],\n",
              "       [  73. ,   84. ,  155. ],\n",
              "       [ 157. ,   87. ,  106. ],\n",
              "       [  86. ,   69. ,  107. ],\n",
              "       [ 112. ,  149. ,   79. ],\n",
              "       [ 167. ,  140. ,   71. ],\n",
              "       [ 177. ,   76. ,   87. ],\n",
              "       [  77. ,  151. ,   94. ],\n",
              "       [  72. ,   85. ,  157. ],\n",
              "       [ 170. ,  166. ,   71. ],\n",
              "       [ 157. ,   85. ,  136. ],\n",
              "       [  64. ,  111. ,  160. ]])"
            ]
          },
          "metadata": {},
          "execution_count": 9
        }
      ]
    },
    {
      "cell_type": "code",
      "source": [
        "# Select the method we are going to use\n",
        "for method in methods:\n",
        "    print(\"Method:\",method)\n",
        "    # Create the folders to store the calibrated images\n",
        "    if not os.path.exists(folder_pal_cal+'/'+method):\n",
        "        os.mkdir(folder_pal_cal+'/'+method)\n",
        "    if not os.path.exists(folder_img_cal+'/'+method):\n",
        "        os.mkdir(folder_img_cal+'/'+method)\n",
        "    # Browse the files\n",
        "    for file in files:\n",
        "        # print(\"test image...\")\n",
        "        # Read one meat image\n",
        "        img = cv2.imread(folder_img_carne+f\"/{file}\")\n",
        "        img = cv2.cvtColor(img,cv2.COLOR_BGR2RGB)\n",
        "        # Read the corresponding palette image\n",
        "        img_paleta = cv2.imread(folder_img_paleta+f\"/{file}\")\n",
        "        img_paleta = cv2.cvtColor(img_paleta,cv2.COLOR_BGR2RGB)\n",
        "        # print(\"detect circles...\")\n",
        "        # Detect the circles in the palette\n",
        "        detected_circles = find_circles(img_paleta)\n",
        "        # print(\"get medians...\")\n",
        "        # Get the median of each color in the palette\n",
        "        circles_p,median_p = getColorsMatrix(img_paleta,detected_circles)\n",
        "\n",
        "        # The medians must be as a float\n",
        "        median_p = median_p.astype(\"float\")\n",
        "        \n",
        "        # print(\"vectorize cal img...\")\n",
        "        img_copy=img.copy()\n",
        "        rows,cols,ch = img_copy.shape\n",
        "        # Create a vector of the image\n",
        "        vec_img = np.reshape(img_copy,(rows*cols,ch)).astype(\"float\")\n",
        "        \n",
        "        # print(\"vectorize palette...\")\n",
        "        # Also, calibrate the corresponding palette\n",
        "        paleta_copy=img_paleta.copy()\n",
        "        prows,pcols,pch = paleta_copy.shape\n",
        "        vec_paleta = np.reshape(paleta_copy,(prows*pcols,pch))\n",
        "\n",
        "        if method == \"Differential Evolution\":\n",
        "            # print(\"differential evolution...\")\n",
        "            # Set the bounds for the Differential Evolution Algorithm\n",
        "            bounds = [[-100,100]]*9\n",
        "            res = differential_evolution(error,bounds,args=(median_p,median_cal))\n",
        "            mat_transform = np.reshape(res.x,(3,3))\n",
        "            # Get the vector of the calibrated image\n",
        "            vec_cal_img = np.dot(vec_img,mat_transform)\n",
        "            vec_cal_paleta = np.dot(vec_paleta,mat_transform)\n",
        "        else:\n",
        "            vec_cal_img = colour.colour_correction(vec_img,median_p,median_cal,method=method)\n",
        "            vec_cal_paleta = colour.colour_correction(vec_paleta,median_p,median_cal,method=method)\n",
        "        \n",
        "        # print(\"2d cal img...\")\n",
        "        # Make sure the values are in the RGB range\n",
        "        vec_cal_img[vec_cal_img > 255] = 255\n",
        "        vec_cal_img[vec_cal_img < 0] = 0\n",
        "        # Reshape the vectorized image to a 2D image\n",
        "        cal_img = np.uint8(np.reshape(vec_cal_img,(rows,cols,ch)))\n",
        "\n",
        "        vec_cal_paleta[vec_cal_paleta > 255],vec_cal_paleta[vec_cal_paleta < 0] = 255,0\n",
        "        # print(\"2d palette...\")\n",
        "        cal_paleta = np.uint8(np.reshape(vec_cal_paleta,(prows,pcols,pch)))\n",
        "\n",
        "        # print(\"write images...\")\n",
        "        cv2.imwrite(f\"{folder_img_cal}/{method}/{file}\",cv2.cvtColor(cal_img,cv2.COLOR_RGB2BGR))\n",
        "        cv2.imwrite(f\"{folder_pal_cal}/{method}/{file}\",cv2.cvtColor(cal_paleta,cv2.COLOR_RGB2BGR))"
      ],
      "metadata": {
        "id": "LeAWOQLHyfXM",
        "colab": {
          "base_uri": "https://localhost:8080/"
        },
        "outputId": "2c43506c-5836-4068-81bd-6cdfae15fbf6"
      },
      "execution_count": 10,
      "outputs": [
        {
          "output_type": "stream",
          "name": "stdout",
          "text": [
            "Method: Cheung 2004\n"
          ]
        }
      ]
    },
    {
      "cell_type": "markdown",
      "source": [
        "## Errores de calibración"
      ],
      "metadata": {
        "id": "2pnfE2RlfvCD"
      }
    },
    {
      "cell_type": "code",
      "source": [
        "carnes = {\n",
        "    \"arrachera\":[file for file in files if file.split('_')[1]==\"A01\"],\n",
        "    \"sirloin\":[file for file in files if file.split('_')[1]==\"S01\"],\n",
        "    \"bola\":[file for file in files if file.split('_')[1]==\"B01\"]\n",
        "}"
      ],
      "metadata": {
        "id": "TpOar5uxiJeD"
      },
      "execution_count": 11,
      "outputs": []
    },
    {
      "cell_type": "code",
      "source": [
        "if not os.path.exists(root_directory+\"/ErroresCalibracion\"):\n",
        "    os.mkdir(root_directory+\"/ErroresCalibracion\")\n",
        "\n",
        "for tipo_carne,archivos in carnes.items():\n",
        "    if len(archivos)==0:\n",
        "        continue\n",
        "    print(tipo_carne)\n",
        "    if os.path.exists(root_directory+\"/ErroresCalibracion/\"+tipo_carne+\".csv\"):\n",
        "        os.remove(root_directory+\"/ErroresCalibracion/\"+tipo_carne+\".csv\")\n",
        "    folders = [foldername for foldername in os.listdir(folder_pal_cal) if os.path.isdir(folder_pal_cal+'/'+foldername)]\n",
        "    errores_metodos = [None]*len(folders)\n",
        "    for j,foldername in enumerate(folders):\n",
        "        diff_median = np.zeros((len(archivos),24,3),dtype=float) # Differences between each sample image and the calibration image\n",
        "        for k,filename in enumerate(archivos):\n",
        "            img_paleta = cv2.imread(folder_pal_cal+'/'+foldername+'/'+filename,cv2.IMREAD_COLOR)\n",
        "            img_paleta = cv2.cvtColor(img_paleta,cv2.COLOR_BGR2RGB)\n",
        "\n",
        "            detected_circles = find_circles(img_paleta)\n",
        "            if len(detected_circles) != 24:\n",
        "                print(\"There are not 24 circles in the image\")\n",
        "                print(file)\n",
        "                break\n",
        "\n",
        "            circles_p,median_p = getColorsMatrix(img_paleta,detected_circles)\n",
        "\n",
        "            diff_median[k] = np.abs(median_cal-median_p)\n",
        "            \n",
        "        errores_metodos[j] = diff_median.flatten()\n",
        "        with open(root_directory+\"/ErroresCalibracion/\"+tipo_carne+\".csv\",\"a\") as file:\n",
        "            file.write(foldername+\",\")\n",
        "            file.write(\",\".join(errores_metodos[j].astype(\"str\")))\n",
        "            file.write(\"\\n\")\n",
        "    \n",
        "    plt.figure(figsize=(20,5))\n",
        "    for j in range(len(errores_metodos)):\n",
        "        plt.subplot(1,4,j+1)\n",
        "        plt.title(folders[j]+\" Error: \"+str(np.average(errores_metodos[j])))\n",
        "        plt.boxplot(errores_metodos[j])\n",
        "    plt.show()\n",
        "\n",
        "    "
      ],
      "metadata": {
        "colab": {
          "base_uri": "https://localhost:8080/",
          "height": 355
        },
        "id": "udiscegQ_Fvi",
        "outputId": "ec57818c-c22b-4872-8142-62fd3af53d2f"
      },
      "execution_count": 12,
      "outputs": [
        {
          "output_type": "stream",
          "name": "stdout",
          "text": [
            "sirloin\n"
          ]
        },
        {
          "output_type": "display_data",
          "data": {
            "image/png": "[encoded data removed]",
            "text/plain": [
              "<Figure size 1440x360 with 1 Axes>"
            ]
          },
          "metadata": {
            "needs_background": "light"
          }
        }
      ]
    },
    {
      "cell_type": "code",
      "source": [
        "from scipy.stats import f_oneway"
      ],
      "metadata": {
        "id": "H4QSspLjkOAJ"
      },
      "execution_count": 13,
      "outputs": []
    },
    {
      "cell_type": "code",
      "source": [
        "errores = [None]*len(folders)\n",
        "for filename in os.listdir(root_directory+\"/ErroresCalibracion\"):    \n",
        "    print(filename)\n",
        "    with open(root_directory+\"/ErroresCalibracion/\"+filename, 'r') as file:\n",
        "        reader = csv.reader(file)\n",
        "        rows = list(reader)\n",
        "        for i,row in enumerate(rows):\n",
        "            errores[i] = np.array(row[1:],dtype=float)\n",
        "        result = f_oneway(*errores)\n",
        "        print(result)    \n",
        "    \n"
      ],
      "metadata": {
        "colab": {
          "base_uri": "https://localhost:8080/"
        },
        "id": "R8meyKCri3Jt",
        "outputId": "95e5936b-c086-44e5-848d-7b2097be797c"
      },
      "execution_count": 14,
      "outputs": [
        {
          "output_type": "stream",
          "name": "stdout",
          "text": [
            "sirloin.csv\n",
            "F_onewayResult(statistic=nan, pvalue=nan)\n"
          ]
        },
        {
          "output_type": "stream",
          "name": "stderr",
          "text": [
            "/usr/local/lib/python3.7/dist-packages/scipy/stats/stats.py:3347: RuntimeWarning: invalid value encountered in double_scalars\n",
            "  msb = ssbn / dfbn\n"
          ]
        }
      ]
    }
  ]
}