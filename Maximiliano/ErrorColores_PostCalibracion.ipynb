{
 "cells": [
  {
   "cell_type": "code",
   "execution_count": 1,
   "metadata": {},
   "outputs": [],
   "source": [
    "import os\n",
    "import cv2\n",
    "import numpy as np\n",
    "import matplotlib.pyplot as plt\n",
    "from copy import deepcopy"
   ]
  },
  {
   "cell_type": "code",
   "execution_count": 2,
   "metadata": {},
   "outputs": [
    {
     "data": {
      "text/plain": [
       "(30, 30, 30)"
      ]
     },
     "execution_count": 2,
     "metadata": {},
     "output_type": "execute_result"
    }
   ],
   "source": [
    "folder_path = \"imagenes_calibradas\"\n",
    "\n",
    "files = os.listdir(folder_path)\n",
    "\n",
    "arrachera_files = [file for file in files if file.split('_')[1]==\"A01\"]\n",
    "sirloin_files = [file for file in files if file.split('_')[1]==\"S01\"]\n",
    "bola_files = [file for file in files if file.split('_')[1]==\"B01\"]\n",
    "\n",
    "len(arrachera_files),len(sirloin_files),len(bola_files)"
   ]
  },
  {
   "cell_type": "code",
   "execution_count": 3,
   "metadata": {},
   "outputs": [],
   "source": [
    "# Function for finding the circles in an image\n",
    "def find_circles(paleta):\n",
    "    gray = cv2.cvtColor(paleta, cv2.COLOR_RGB2GRAY)\n",
    "    detected_circles = cv2.HoughCircles(gray, \n",
    "                        cv2.HOUGH_GRADIENT, 1, 20, param1 = 100,\n",
    "                    param2 = 25, minRadius = 1, maxRadius = 25)\n",
    "\n",
    "    if detected_circles is not None:\n",
    "        # Convert the circle parameters a, b and r to integers.\n",
    "        detected_circles = np.uint16(np.around(detected_circles))\n",
    "\n",
    "    return detected_circles[0]\n",
    "\n",
    "# Function for sorting the detected circles in the palette and getting the median of their colors\n",
    "def getColorsMatrix(paleta,detected_circles):\n",
    "    my_circles = deepcopy(detected_circles)\n",
    "    circles_column_idx = np.argsort(my_circles[:,0])\n",
    "    circ_sorted_x = deepcopy(my_circles[circles_column_idx,:])\n",
    "\n",
    "    # First we split the circles array into 4 sections\n",
    "    circ_split = np.array_split(circ_sorted_x,4)\n",
    "\n",
    "    # Now we sort each section based on y coordinates\n",
    "    circ_sorted_y = np.zeros_like(circ_split)\n",
    "    for k in range(len(circ_split)):\n",
    "        circles_row_idx = np.argsort(circ_split[k][:,1])\n",
    "        circ_sorted_y[k] = deepcopy(circ_split[k][circles_row_idx,:])\n",
    "    \n",
    "    # And finally we reshape the array so it matches the median array\n",
    "    rows,cols,_ = circ_sorted_y.shape\n",
    "    my_circles = np.reshape(circ_sorted_y,(rows*cols,_))\n",
    "\n",
    "    median_array = np.zeros((len(my_circles),3))\n",
    "    for k in range(len(my_circles)):\n",
    "        (x,y,r) = my_circles[k]\n",
    "        \n",
    "        median_r = np.median(paleta[y-(r//2):y+(r//2),x-(r//2):x+(r//2),0])\n",
    "        median_g = np.median(paleta[y-(r//2):y+(r//2),x-(r//2):x+(r//2),1])\n",
    "        median_b = np.median(paleta[y-(r//2):y+(r//2),x-(r//2):x+(r//2),2])\n",
    "        \n",
    "        median_array[k] = (median_r,median_g,median_b)\n",
    "    \n",
    "    return my_circles,median_array"
   ]
  },
  {
   "cell_type": "code",
   "execution_count": 4,
   "metadata": {},
   "outputs": [
    {
     "data": {
      "text/plain": [
       "array([[[0., 0., 0.],\n",
       "        [0., 0., 0.],\n",
       "        [0., 0., 0.],\n",
       "        ...,\n",
       "        [0., 0., 0.],\n",
       "        [0., 0., 0.],\n",
       "        [0., 0., 0.]],\n",
       "\n",
       "       [[0., 0., 0.],\n",
       "        [0., 0., 0.],\n",
       "        [0., 0., 0.],\n",
       "        ...,\n",
       "        [0., 0., 0.],\n",
       "        [0., 0., 0.],\n",
       "        [0., 0., 0.]],\n",
       "\n",
       "       [[0., 0., 0.],\n",
       "        [0., 0., 0.],\n",
       "        [0., 0., 0.],\n",
       "        ...,\n",
       "        [0., 0., 0.],\n",
       "        [0., 0., 0.],\n",
       "        [0., 0., 0.]],\n",
       "\n",
       "       ...,\n",
       "\n",
       "       [[0., 0., 0.],\n",
       "        [0., 0., 0.],\n",
       "        [0., 0., 0.],\n",
       "        ...,\n",
       "        [0., 0., 0.],\n",
       "        [0., 0., 0.],\n",
       "        [0., 0., 0.]],\n",
       "\n",
       "       [[0., 0., 0.],\n",
       "        [0., 0., 0.],\n",
       "        [0., 0., 0.],\n",
       "        ...,\n",
       "        [0., 0., 0.],\n",
       "        [0., 0., 0.],\n",
       "        [0., 0., 0.]],\n",
       "\n",
       "       [[0., 0., 0.],\n",
       "        [0., 0., 0.],\n",
       "        [0., 0., 0.],\n",
       "        ...,\n",
       "        [0., 0., 0.],\n",
       "        [0., 0., 0.],\n",
       "        [0., 0., 0.]]])"
      ]
     },
     "execution_count": 4,
     "metadata": {},
     "output_type": "execute_result"
    }
   ],
   "source": [
    "medianas = np.zeros((24,30,3))\n",
    "medianas"
   ]
  },
  {
   "cell_type": "markdown",
   "metadata": {},
   "source": [
    "## Arrachera"
   ]
  },
  {
   "cell_type": "code",
   "execution_count": 5,
   "metadata": {},
   "outputs": [],
   "source": [
    "for k,file in enumerate(arrachera_files):\n",
    "    img = cv2.imread(folder_path+'/'+file,cv2.IMREAD_COLOR)\n",
    "    img = cv2.cvtColor(img,cv2.COLOR_BGR2RGB)\n",
    "\n",
    "    img_paleta = cv2.imread(\"paletas_calibradas/\"+file,cv2.IMREAD_COLOR)\n",
    "    img_paleta = cv2.cvtColor(img_paleta,cv2.COLOR_BGR2RGB)\n",
    "\n",
    "    detected_circles = find_circles(img_paleta)\n",
    "\n",
    "    # plt.figure()\n",
    "    # plt.subplot(1,3,1)\n",
    "    # plt.imshow(cv2.resize(img,(img.shape[1]*30//100,img.shape[0]*30//100)))\n",
    "    # plt.subplot(1,3,2)\n",
    "    # plt.imshow(img_paleta)\n",
    "    \n",
    "    if len(detected_circles) != 24:\n",
    "        print(\"There are not 24 circles in the image\")\n",
    "        print(file)\n",
    "        break\n",
    "\n",
    "    # canvas = np.zeros_like(img_paleta)\n",
    "    circles_p,median_p = getColorsMatrix(img_paleta,detected_circles)\n",
    "    for j,color in enumerate(median_p):\n",
    "        medianas[j][k] = color\n",
    "\n",
    "    # for k in range(len(circles_p)):\n",
    "    #     (x,y,r) = circles_p[k]\n",
    "    #     color = median_p[k]\n",
    "    #     cv2.circle(canvas,(x,y),r,color,-1)\n",
    "\n",
    "    \n",
    "    # plt.subplot(1,3,3)\n",
    "    # plt.imshow(canvas)\n",
    "    # plt.show()\n"
   ]
  },
  {
   "cell_type": "code",
   "execution_count": 14,
   "metadata": {},
   "outputs": [
    {
     "name": "stdout",
     "output_type": "stream",
     "text": [
      "<built-in method tostring of numpy.ndarray object at 0x00000259048A6800>\n"
     ]
    }
   ],
   "source": [
    "vector = np.zeros((24,29,3))\n",
    "for k in range(24):\n",
    "    # print(\"Diferencias medias de los colores\\n\",np.average(np.abs(np.diff(medianas[k],axis=0)),axis=0))\n",
    "    vector[k,:,:] = np.abs(np.diff(medianas[k],axis=0))\n",
    "vector = vector.flatten()\n",
    "# print(\"Promedio:\",np.average(vector))\n",
    "\n",
    "# plt.figure()\n",
    "# plt.boxplot(vector)\n",
    "# plt.show()\n"
   ]
  },
  {
   "cell_type": "markdown",
   "metadata": {},
   "source": [
    "## Sirloin"
   ]
  },
  {
   "cell_type": "code",
   "execution_count": 7,
   "metadata": {},
   "outputs": [],
   "source": [
    "for file in sirloin_files:\n",
    "    img = cv2.imread(folder_path+'/'+file,cv2.IMREAD_COLOR)\n",
    "    img = cv2.cvtColor(img,cv2.COLOR_BGR2RGB)\n",
    "\n",
    "    img_paleta = cv2.imread(\"paletas_calibradas/\"+file,cv2.IMREAD_COLOR)\n",
    "    img_paleta = cv2.cvtColor(img_paleta,cv2.COLOR_BGR2RGB)\n",
    "\n",
    "    detected_circles = find_circles(img_paleta)\n",
    "\n",
    "    # plt.figure()\n",
    "    # plt.subplot(1,3,1)\n",
    "    # plt.imshow(cv2.resize(img,(img.shape[1]*30//100,img.shape[0]*30//100)))\n",
    "    # plt.subplot(1,3,2)\n",
    "    # plt.imshow(img_paleta)\n",
    "    \n",
    "    if len(detected_circles) != 24:\n",
    "        print(\"There are not 24 circles in the image\")\n",
    "        print(file)\n",
    "        break\n",
    "\n",
    "    # canvas = np.zeros_like(img_paleta)\n",
    "    circles_p,median_p = getColorsMatrix(img_paleta,detected_circles)\n",
    "    for j,color in enumerate(median_p):\n",
    "        medianas[j][k] = color\n",
    "    # for k in range(len(circles_p)):\n",
    "    #     (x,y,r) = circles_p[k]\n",
    "    #     color = median_p[k]\n",
    "    #     cv2.circle(canvas,(x,y),r,color,-1)\n",
    "\n",
    "    \n",
    "    # plt.subplot(1,3,3)\n",
    "    # plt.imshow(canvas)\n",
    "    # plt.show()"
   ]
  },
  {
   "cell_type": "code",
   "execution_count": 8,
   "metadata": {},
   "outputs": [
    {
     "name": "stdout",
     "output_type": "stream",
     "text": [
      "Promedio: 6.988266283524904\n"
     ]
    },
    {
     "data": {
      "image/png": "[encoded data removed]",
      "text/plain": [
       "<Figure size 432x288 with 1 Axes>"
      ]
     },
     "metadata": {
      "needs_background": "light"
     },
     "output_type": "display_data"
    }
   ],
   "source": [
    "vector = np.zeros((24,29,3))\n",
    "for k in range(24):\n",
    "    # print(\"Diferencias medias de los colores\\n\",np.average(np.abs(np.diff(medianas[k],axis=0)),axis=0))\n",
    "    vector[k,:,:] = np.abs(np.diff(medianas[k],axis=0))\n",
    "vector = vector.flatten()\n",
    "print(\"Promedio:\",np.average(vector))\n",
    "\n",
    "plt.figure()\n",
    "plt.boxplot(vector)\n",
    "plt.show()"
   ]
  },
  {
   "cell_type": "markdown",
   "metadata": {},
   "source": [
    "## Bola"
   ]
  },
  {
   "cell_type": "code",
   "execution_count": 9,
   "metadata": {},
   "outputs": [],
   "source": [
    "for file in bola_files:\n",
    "    img = cv2.imread(folder_path+'/'+file,cv2.IMREAD_COLOR)\n",
    "    img = cv2.cvtColor(img,cv2.COLOR_BGR2RGB)\n",
    "\n",
    "    img_paleta = cv2.imread(\"paletas_calibradas/\"+file,cv2.IMREAD_COLOR)\n",
    "    img_paleta = cv2.cvtColor(img_paleta,cv2.COLOR_BGR2RGB)\n",
    "\n",
    "    detected_circles = find_circles(img_paleta)\n",
    "\n",
    "    # plt.figure()\n",
    "    # plt.subplot(1,3,1)\n",
    "    # plt.imshow(cv2.resize(img,(img.shape[1]*30//100,img.shape[0]*30//100)))\n",
    "    # plt.subplot(1,3,2)\n",
    "    # plt.imshow(img_paleta)\n",
    "    \n",
    "    if len(detected_circles) != 24:\n",
    "        print(\"There are not 24 circles in the image\")\n",
    "        print(file)\n",
    "        break\n",
    "\n",
    "    # canvas = np.zeros_like(img_paleta)\n",
    "    circles_p,median_p = getColorsMatrix(img_paleta,detected_circles)\n",
    "    for j,color in enumerate(median_p):\n",
    "        medianas[j][k] = color\n",
    "    # for k in range(len(circles_p)):\n",
    "    #     (x,y,r) = circles_p[k]\n",
    "    #     color = median_p[k]\n",
    "    #     cv2.circle(canvas,(x,y),r,color,-1)\n",
    "\n",
    "    \n",
    "    # plt.subplot(1,3,3)\n",
    "    # plt.imshow(canvas)\n",
    "    # plt.show()"
   ]
  },
  {
   "cell_type": "code",
   "execution_count": 10,
   "metadata": {},
   "outputs": [
    {
     "name": "stdout",
     "output_type": "stream",
     "text": [
      "Promedio: 6.897749042145594\n"
     ]
    },
    {
     "data": {
      "image/png": "[encoded data removed]",
      "text/plain": [
       "<Figure size 432x288 with 1 Axes>"
      ]
     },
     "metadata": {
      "needs_background": "light"
     },
     "output_type": "display_data"
    }
   ],
   "source": [
    "vector = np.zeros((24,29,3))\n",
    "for k in range(24):\n",
    "    # print(\"Diferencias medias de los colores\\n\",np.average(np.abs(np.diff(medianas[k],axis=0)),axis=0))\n",
    "    vector[k,:,:] = np.abs(np.diff(medianas[k],axis=0))\n",
    "vector = vector.flatten()\n",
    "print(\"Promedio:\",np.average(vector))\n",
    "\n",
    "plt.figure()\n",
    "plt.boxplot(vector)\n",
    "plt.show()"
   ]
  }
 ],
 "metadata": {
  "interpreter": {
   "hash": "01d61480372c2d339fbf3c54a4bedd0b4c59fa28d24ffc2397cf5219c7d40c34"
  },
  "kernelspec": {
   "display_name": "Python 3.8.5 64-bit ('base': conda)",
   "name": "python3"
  },
  "language_info": {
   "codemirror_mode": {
    "name": "ipython",
    "version": 3
   },
   "file_extension": ".py",
   "mimetype": "text/x-python",
   "name": "python",
   "nbconvert_exporter": "python",
   "pygments_lexer": "ipython3",
   "version": "3.8.5"
  },
  "orig_nbformat": 4
 },
 "nbformat": 4,
 "nbformat_minor": 2
}
