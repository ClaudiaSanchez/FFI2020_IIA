{
  "nbformat": 4,
  "nbformat_minor": 0,
  "metadata": {
    "colab": {
      "name": "CalibracionColoresAlpha.ipynb",
      "provenance": [],
      "collapsed_sections": [],
      "mount_file_id": "1_h9r6-ihbnyJwCCNPQUt32WT9wXJzcgR",
      "authorship_tag": "ABX9TyNsR6F4/v68UE22+a2uJnoV",
      "include_colab_link": true
    },
    "kernelspec": {
      "name": "python3",
      "display_name": "Python 3"
    },
    "language_info": {
      "name": "python"
    }
  },
  "cells": [
    {
      "cell_type": "markdown",
      "metadata": {
        "id": "view-in-github",
        "colab_type": "text"
      },
      "source": [
        "<a href=\"https://colab.research.google.com/github/ClaudiaSanchez/FFI2020_IIA/blob/master/CalibracionColoresAlpha.ipynb\" target=\"_parent\"><img src=\"https://colab.research.google.com/assets/colab-badge.svg\" alt=\"Open In Colab\"/></a>"
      ]
    },
    {
      "cell_type": "markdown",
      "source": [
        "*   Que nada esté hardcodeado. Que funcione con pocas imágenes y sólo un tipo de carne\n",
        "*   Calcular el error de los colores con las diferencias de la paleta de calibración y la de muestra.\n",
        "*   Colocar los boxplots de cada tipo de carne juntos, para comparar los métodos.\n",
        "*   Elemento de lista"
      ],
      "metadata": {
        "id": "bn8z-cEeubwN"
      }
    },
    {
      "cell_type": "code",
      "source": [
        "!pip install -q colour-science"
      ],
      "metadata": {
        "id": "X1YiKGMPx0UF"
      },
      "execution_count": 1,
      "outputs": []
    },
    {
      "cell_type": "code",
      "execution_count": 2,
      "metadata": {
        "id": "ZXmX0TUou9Ex"
      },
      "outputs": [],
      "source": [
        "import os\n",
        "import cv2\n",
        "import numpy as np\n",
        "import matplotlib.pyplot as plt\n",
        "from copy import deepcopy\n",
        "import csv\n",
        "import colour\n",
        "from scipy.optimize import differential_evolution"
      ]
    },
    {
      "cell_type": "code",
      "source": [
        "# Define the path of the images folder\n",
        "folder_img_carne = \"/content/drive/MyDrive/Mi_FFI/imagenes_carne\"\n",
        "folder_img_paleta = \"/content/drive/MyDrive/Mi_FFI/imagenes_paletas\"\n",
        "\n",
        "# Set the target folder for the calibrated images\n",
        "folder_img_cal = \"/content/drive/MyDrive/Mi_FFI/imagenes_calibradas\"\n",
        "folder_pal_cal = \"/content/drive/MyDrive/Mi_FFI/paletas_calibradas\"\n",
        "\n",
        "if not os.path.exists(folder_img_cal):\n",
        "    os.mkdir(folder_img_cal)\n",
        "\n",
        "if not os.path.exists(folder_pal_cal):\n",
        "    os.mkdir(folder_pal_cal)"
      ],
      "metadata": {
        "id": "XdDWIZNDwPry"
      },
      "execution_count": 3,
      "outputs": []
    },
    {
      "cell_type": "code",
      "source": [
        "# Function to find circles in an image\n",
        "def find_circles(paleta):\n",
        "    gray = cv2.cvtColor(paleta, cv2.COLOR_RGB2GRAY)\n",
        "    detected_circles = cv2.HoughCircles(gray, \n",
        "                        cv2.HOUGH_GRADIENT, 1, 20, param1 = 100,\n",
        "                    param2 = 25, minRadius = 1, maxRadius = 25)\n",
        "\n",
        "    if detected_circles is not None:\n",
        "        detected_circles = np.uint16(np.around(detected_circles))\n",
        "\n",
        "    return detected_circles[0]\n",
        "\n",
        "# Function to sort detected circles and get the median of their colors\n",
        "def getColorsMatrix(paleta,detected_circles):\n",
        "    my_circles = deepcopy(detected_circles)\n",
        "    circles_column_idx = np.argsort(my_circles[:,0])\n",
        "    circ_sorted_x = deepcopy(my_circles[circles_column_idx,:])\n",
        "\n",
        "    circ_split = np.array_split(circ_sorted_x,4)\n",
        "\n",
        "    circ_sorted_y = np.zeros_like(circ_split)\n",
        "    for k in range(len(circ_split)):\n",
        "        circles_row_idx = np.argsort(circ_split[k][:,1])\n",
        "        circ_sorted_y[k] = deepcopy(circ_split[k][circles_row_idx,:])\n",
        "    \n",
        "    rows,cols,_ = circ_sorted_y.shape\n",
        "    my_circles = np.reshape(circ_sorted_y,(rows*cols,_))\n",
        "\n",
        "    median_array = np.zeros((len(my_circles),3))\n",
        "    for k in range(len(my_circles)):\n",
        "        (x,y,r) = my_circles[k]\n",
        "        \n",
        "        median_r = np.median(paleta[y-(r//2):y+(r//2),x-(r//2):x+(r//2),0])\n",
        "        median_g = np.median(paleta[y-(r//2):y+(r//2),x-(r//2):x+(r//2),1])\n",
        "        median_b = np.median(paleta[y-(r//2):y+(r//2),x-(r//2):x+(r//2),2])\n",
        "        \n",
        "        median_array[k] = (median_r,median_g,median_b)\n",
        "    \n",
        "    return my_circles,median_array"
      ],
      "metadata": {
        "id": "-rU2nrXXwhoM"
      },
      "execution_count": 4,
      "outputs": []
    },
    {
      "cell_type": "code",
      "source": [
        "# Function to get the error of the differential evolution individual\n",
        "def error(ind,median_p,median_cal):\n",
        "    ind = np.reshape(ind,(3,3))\n",
        "    return np.sum(np.abs(median_cal-np.dot(median_p,ind)))"
      ],
      "metadata": {
        "id": "ACmteq8_xSl1"
      },
      "execution_count": 5,
      "outputs": []
    },
    {
      "cell_type": "code",
      "source": [
        "# List all the meat images\n",
        "files = os.listdir(folder_img_carne)\n",
        "files[:5]"
      ],
      "metadata": {
        "colab": {
          "base_uri": "https://localhost:8080/"
        },
        "id": "kh7FRZ5jyVn8",
        "outputId": "b51654f9-a6e3-4d2d-8f35-8f1a54f97ac2"
      },
      "execution_count": 6,
      "outputs": [
        {
          "output_type": "execute_result",
          "data": {
            "text/plain": [
              "['20210908_S01_9_c.JPG',\n",
              " '20210910_S01_7_c.JPG',\n",
              " '20210910_S01_6_c.JPG',\n",
              " '20210910_S01_8_c.JPG',\n",
              " '20210910_S01_9_c.JPG']"
            ]
          },
          "metadata": {},
          "execution_count": 6
        }
      ]
    },
    {
      "cell_type": "code",
      "source": [
        "# Show the available methods and ours\n",
        "methods = sorted(colour.COLOUR_CORRECTION_METHODS.keys())\n",
        "print(methods)\n",
        "methods.append(\"Differential Evolution\")\n",
        "print(methods)"
      ],
      "metadata": {
        "colab": {
          "base_uri": "https://localhost:8080/"
        },
        "id": "AJldEaHZVZb2",
        "outputId": "d24ec342-199b-4b61-c31d-bc084a77942d"
      },
      "execution_count": 7,
      "outputs": [
        {
          "output_type": "stream",
          "name": "stdout",
          "text": [
            "['Cheung 2004', 'Finlayson 2015', 'Vandermonde']\n",
            "['Cheung 2004', 'Finlayson 2015', 'Vandermonde', 'Differential Evolution']\n"
          ]
        }
      ]
    },
    {
      "cell_type": "code",
      "source": [
        "# Select the method we are going to use\n",
        "for method in methods:\n",
        "    print(\"Method:\",method)\n",
        "    # Create the folders to store the calibrated images\n",
        "    if not os.path.exists(folder_pal_cal+'/'+method):\n",
        "        os.mkdir(folder_pal_cal+'/'+method)\n",
        "    if not os.path.exists(folder_img_cal+'/'+method):\n",
        "        os.mkdir(folder_img_cal+'/'+method)\n",
        "    # Browse the files\n",
        "    for file in files:\n",
        "        # print(\"test image...\")\n",
        "        # Read one meat image\n",
        "        img = cv2.imread(folder_img_carne+f\"/{file}\")\n",
        "        img = cv2.cvtColor(img,cv2.COLOR_BGR2RGB)\n",
        "        # Read the corresponding palette image\n",
        "        img_paleta = cv2.imread(folder_img_paleta+f\"/{file}\")\n",
        "        img_paleta = cv2.cvtColor(img_paleta,cv2.COLOR_BGR2RGB)\n",
        "        # print(\"detect circles...\")\n",
        "        # Detect the circles in the palette\n",
        "        detected_circles = find_circles(img_paleta)\n",
        "        # print(\"get medians...\")\n",
        "        # Get the median of each color in the palette\n",
        "        circles_p,median_p = getColorsMatrix(img_paleta,detected_circles)\n",
        "\n",
        "        # print(\"calibration palette...\")\n",
        "        # Read the calibration palette\n",
        "        paleta_calibracion = cv2.imread(folder_img_paleta+\"/CALIBRACION.JPG\")\n",
        "        paleta_calibracion = cv2.cvtColor(paleta_calibracion,cv2.COLOR_BGR2RGB)\n",
        "        # print(\"detect circles...\")\n",
        "        # Detect the circles in the calibration palette\n",
        "        detected_circles = find_circles(paleta_calibracion)\n",
        "        # print(\"get medians...\")\n",
        "        # Get the median of each color in the calibration palette\n",
        "        circles_cal,median_cal = getColorsMatrix(paleta_calibracion,detected_circles)\n",
        "        \n",
        "        # The medians must be as a float\n",
        "        median_p = median_p.astype(\"float\")\n",
        "        median_cal = median_cal.astype(\"float\")\n",
        "        \n",
        "        # print(\"vectorize cal img...\")\n",
        "        img_copy=img.copy()\n",
        "        rows,cols,ch = img_copy.shape\n",
        "        # Create a vector of the image\n",
        "        vec_img = np.reshape(img_copy,(rows*cols,ch)).astype(\"float\")\n",
        "        \n",
        "        # print(\"vectorize palette...\")\n",
        "        # Also, calibrate the corresponding palette\n",
        "        paleta_copy=img_paleta.copy()\n",
        "        prows,pcols,pch = paleta_copy.shape\n",
        "        vec_paleta = np.reshape(paleta_copy,(prows*pcols,pch))\n",
        "\n",
        "        if method == \"Differential Evolution\":\n",
        "            # print(\"differential evolution...\")\n",
        "            # Set the bounds for the Differential Evolution Algorithm\n",
        "            bounds = [[-100,100]]*9\n",
        "            res = differential_evolution(error,bounds,args=(median_p,median_cal))\n",
        "            mat_transform = np.reshape(res.x,(3,3))\n",
        "            # Get the vector of the calibrated image\n",
        "            vec_cal_img = np.dot(vec_img,mat_transform)\n",
        "            vec_cal_paleta = np.dot(vec_paleta,mat_transform)\n",
        "        else:\n",
        "            vec_cal_img = colour.colour_correction(vec_img,median_p,median_cal,method=method)\n",
        "            vec_cal_paleta = colour.colour_correction(vec_paleta,median_p,median_cal,method=method)\n",
        "        \n",
        "        # print(\"2d cal img...\")\n",
        "        # Make sure the values are in the RGB range\n",
        "        vec_cal_img[vec_cal_img > 255] = 255\n",
        "        vec_cal_img[vec_cal_img < 0] = 0\n",
        "        # Reshape the vectorized image to a 2D image\n",
        "        cal_img = np.uint8(np.reshape(vec_cal_img,(rows,cols,ch)))\n",
        "\n",
        "        vec_cal_paleta[vec_cal_paleta > 255],vec_cal_paleta[vec_cal_paleta < 0] = 255,0\n",
        "        # print(\"2d palette...\")\n",
        "        cal_paleta = np.uint8(np.reshape(vec_cal_paleta,(prows,pcols,pch)))\n",
        "\n",
        "        # print(\"write images...\")\n",
        "        cv2.imwrite(f\"{folder_img_cal}/{method}/{file}\",cv2.cvtColor(cal_img,cv2.COLOR_RGB2BGR))\n",
        "        cv2.imwrite(f\"{folder_pal_cal}/{method}/{file}\",cv2.cvtColor(cal_paleta,cv2.COLOR_RGB2BGR))"
      ],
      "metadata": {
        "id": "LeAWOQLHyfXM",
        "colab": {
          "base_uri": "https://localhost:8080/"
        },
        "outputId": "86a99bcd-5c50-4d95-85fe-46e780a12383"
      },
      "execution_count": 8,
      "outputs": [
        {
          "output_type": "stream",
          "name": "stdout",
          "text": [
            "Method: Cheung 2004\n",
            "Method: Finlayson 2015\n",
            "Method: Vandermonde\n",
            "Method: Differential Evolution\n"
          ]
        }
      ]
    },
    {
      "cell_type": "markdown",
      "source": [
        "## Errores de calibración"
      ],
      "metadata": {
        "id": "2pnfE2RlfvCD"
      }
    },
    {
      "cell_type": "code",
      "source": [
        "arrachera_files = [file for file in files if file.split('_')[1]==\"A01\"]\n",
        "sirloin_files = [file for file in files if file.split('_')[1]==\"S01\"]\n",
        "bola_files = [file for file in files if file.split('_')[1]==\"B01\"]\n",
        "\n",
        "print(len(arrachera_files),len(sirloin_files),len(bola_files))"
      ],
      "metadata": {
        "colab": {
          "base_uri": "https://localhost:8080/"
        },
        "id": "TpOar5uxiJeD",
        "outputId": "d9c78953-fe00-4e99-ca44-584f2d1394e7"
      },
      "execution_count": 9,
      "outputs": [
        {
          "output_type": "stream",
          "name": "stdout",
          "text": [
            "30 30 30\n"
          ]
        }
      ]
    },
    {
      "cell_type": "code",
      "source": [
        "if os.path.exists(folder_pal_cal+\"/errores_calibracion_colores.csv\"):\n",
        "    os.remove(folder_pal_cal+\"/errores_calibracion_colores.csv\")\n",
        "for foldername in os.listdir(folder_pal_cal):\n",
        "    if not os.path.isdir(folder_pal_cal+'/'+foldername):\n",
        "        continue\n",
        "    arrachera_files = [file for file in os.listdir(folder_pal_cal+'/'+foldername) if file.split('_')[1]==\"A01\"]\n",
        "    sirloin_files = [file for file in os.listdir(folder_pal_cal+'/'+foldername) if file.split('_')[1]==\"S01\"]\n",
        "    bola_files = [file for file in os.listdir(folder_pal_cal+'/'+foldername) if file.split('_')[1]==\"B01\"]\n",
        "    \n",
        "    for id,tipo_carne in zip((\"A\",\"S\",\"B\"),(arrachera_files,sirloin_files,bola_files)):\n",
        "        if len(tipo_carne) == 0:\n",
        "            continue\n",
        "        medianas = np.zeros((24,len(tipo_carne),3))    \n",
        "        for k,filename in enumerate(tipo_carne):\n",
        "            img_paleta = cv2.imread(folder_pal_cal+'/'+foldername+'/'+filename,cv2.IMREAD_COLOR)\n",
        "            img_paleta = cv2.cvtColor(img_paleta,cv2.COLOR_BGR2RGB)\n",
        "\n",
        "            detected_circles = find_circles(img_paleta)\n",
        "            if len(detected_circles) != 24:\n",
        "                print(\"There are not 24 circles in the image\")\n",
        "                print(file)\n",
        "                break\n",
        "\n",
        "            circles_p,median_p = getColorsMatrix(img_paleta,detected_circles)\n",
        "            for j,color in enumerate(median_p):\n",
        "                medianas[j][k] = color\n",
        "\n",
        "        vector = np.zeros((24,len(tipo_carne)-1,3))\n",
        "        mean_diffs = np.zeros((24,3))\n",
        "        for k in range(24):\n",
        "            # print(\"Diferencias medias de los colores\\n\",np.average(np.abs(np.diff(medianas[k],axis=0)),axis=0))\n",
        "            aux = np.abs(np.diff(medianas[k],axis=0))\n",
        "            mean_diffs[k] = np.average(aux,axis=0)\n",
        "            vector[k,:,:] = aux\n",
        "        print(\"Diferencias medias\",mean_diffs,sep='\\n')\n",
        "        vector = vector.flatten()\n",
        "        \n",
        "        plt.figure()\n",
        "        plt.title(id+' '+foldername+\" Error: \"+str(np.average(vector)))\n",
        "        plt.boxplot(vector)\n",
        "        plt.show()\n",
        "\n",
        "        with open(folder_pal_cal+\"/errores_calibracion_colores.csv\",\"a\") as file:\n",
        "            file.write(id+' '+foldername+\",\")\n",
        "            file.write(\",\".join(vector.astype(\"str\")))\n",
        "            file.write(\"\\n\")\n",
        "\n",
        "       "
      ],
      "metadata": {
        "colab": {
          "base_uri": "https://localhost:8080/",
          "height": 1000
        },
        "id": "-6vCwXkkfuPC",
        "outputId": "8fe07fb6-765f-4771-97c6-f6836aa13b06"
      },
      "execution_count": 10,
      "outputs": [
        {
          "output_type": "stream",
          "name": "stdout",
          "text": [
            "Diferencias medias\n",
            "[[ 11.72413793  11.          11.17241379]\n",
            " [  8.48275862   8.20689655   7.75862069]\n",
            " [  5.51724138   5.03448276   4.75862069]\n",
            " [  3.13793103   3.10344828   3.20689655]\n",
            " [  7.10344828   7.34482759   8.13793103]\n",
            " [ 15.65517241  16.17241379  18.72413793]\n",
            " [  2.68965517   5.03448276   5.22413793]\n",
            " [  4.03448276   7.25862069   8.68965517]\n",
            " [  4.93103448   8.17241379   8.93103448]\n",
            " [  6.93103448  10.20689655  11.37931034]\n",
            " [  6.51724138   9.4137931   10.24137931]\n",
            " [  8.25862069  11.55172414  13.18965517]\n",
            " [  3.96551724   5.17241379   9.72413793]\n",
            " [ 10.44827586  10.01724138   5.5862069 ]\n",
            " [  2.89655172   4.68965517   4.55172414]\n",
            " [ 10.5862069   10.89655172   8.72413793]\n",
            " [  6.24137931   5.17241379   7.37931034]\n",
            " [  2.79310345   4.27586207   9.4137931 ]\n",
            " [  5.86206897  11.72413793  12.06896552]\n",
            " [ 13.27586207  10.03448276  14.48275862]\n",
            " [  8.43103448   8.06896552   5.20689655]\n",
            " [  2.55172414   2.93103448   6.        ]\n",
            " [  4.03448276   8.68965517   7.        ]\n",
            " [  8.93103448   4.79310345   3.06896552]]\n"
          ]
        },
        {
          "output_type": "display_data",
          "data": {
            "image/png": "[encoded data removed]",
            "text/plain": [
              "<Figure size 432x288 with 1 Axes>"
            ]
          },
          "metadata": {
            "needs_background": "light"
          }
        },
        {
          "output_type": "stream",
          "name": "stdout",
          "text": [
            "Diferencias medias\n",
            "[[  6.75862069   6.93103448   6.96551724]\n",
            " [  4.72413793   4.68965517   4.4137931 ]\n",
            " [  4.03448276   3.68965517   3.5862069 ]\n",
            " [  5.44827586   5.4137931    5.68965517]\n",
            " [  9.17241379   9.44827586   9.4137931 ]\n",
            " [ 15.68965517  16.03448276  17.5       ]\n",
            " [  4.20689655   6.65517241   8.06896552]\n",
            " [  4.37931034   6.4137931    7.65517241]\n",
            " [  3.37931034   5.27586207   5.68965517]\n",
            " [  5.34482759   8.65517241   9.24137931]\n",
            " [  7.89655172  12.96551724  12.96551724]\n",
            " [ 10.27586207  14.44827586  15.44827586]\n",
            " [  6.96551724   8.62068966  13.70689655]\n",
            " [ 11.79310345  11.5862069    7.24137931]\n",
            " [  2.44827586   2.93103448   3.03448276]\n",
            " [  6.65517241   7.31034483   6.13793103]\n",
            " [  5.96551724   3.65517241   8.03448276]\n",
            " [  4.51724138   5.82758621  13.10344828]\n",
            " [  8.31034483  14.          15.89655172]\n",
            " [ 15.24137931  11.24137931  17.05172414]\n",
            " [ 10.93103448   9.86206897   5.68965517]\n",
            " [  3.27586207   3.13793103   4.96551724]\n",
            " [  3.12068966   4.48275862   4.17241379]\n",
            " [ 11.34482759   6.51724138   4.03448276]]\n"
          ]
        },
        {
          "output_type": "display_data",
          "data": {
            "image/png": "[encoded data removed]",
            "text/plain": [
              "<Figure size 432x288 with 1 Axes>"
            ]
          },
          "metadata": {
            "needs_background": "light"
          }
        },
        {
          "output_type": "stream",
          "name": "stdout",
          "text": [
            "Diferencias medias\n",
            "[[  9.65517241   9.06896552   9.51724138]\n",
            " [  7.34482759   7.20689655   7.        ]\n",
            " [  5.70689655   5.5862069    5.44827586]\n",
            " [  2.5862069    2.62068966   2.79310345]\n",
            " [  6.55172414   6.68965517   7.75862069]\n",
            " [ 12.27586207  12.17241379  13.75862069]\n",
            " [  1.75862069   2.93103448   4.13793103]\n",
            " [  1.62068966   2.65517241   3.72413793]\n",
            " [  3.79310345   5.51724138   6.20689655]\n",
            " [  5.10344828   6.72413793   7.68965517]\n",
            " [  5.72413793   6.72413793   7.34482759]\n",
            " [  6.51724138   8.           8.72413793]\n",
            " [  2.5862069    3.65517241   5.20689655]\n",
            " [  6.37931034   6.4137931    5.13793103]\n",
            " [  2.27586207   4.89655172   4.55172414]\n",
            " [  8.17241379   7.82758621   8.27586207]\n",
            " [  3.55172414   4.20689655   5.96551724]\n",
            " [  1.79310345   2.34482759   6.18965517]\n",
            " [  4.           7.20689655   8.27586207]\n",
            " [  7.68965517   7.17241379   8.4137931 ]\n",
            " [  4.44827586   4.17241379   3.05172414]\n",
            " [  1.22413793   1.55172414   3.03448276]\n",
            " [  2.51724138   4.20689655   4.24137931]\n",
            " [  4.81034483   3.36206897   2.93103448]]\n"
          ]
        },
        {
          "output_type": "display_data",
          "data": {
            "image/png": "[encoded data removed]",
            "text/plain": [
              "<Figure size 432x288 with 1 Axes>"
            ]
          },
          "metadata": {
            "needs_background": "light"
          }
        },
        {
          "output_type": "stream",
          "name": "stdout",
          "text": [
            "Diferencias medias\n",
            "[[ 11.72413793  11.          11.17241379]\n",
            " [  8.48275862   8.20689655   7.75862069]\n",
            " [  5.51724138   5.03448276   4.75862069]\n",
            " [  3.13793103   3.10344828   3.20689655]\n",
            " [  7.10344828   7.34482759   8.13793103]\n",
            " [ 15.65517241  16.17241379  18.72413793]\n",
            " [  2.68965517   5.03448276   5.22413793]\n",
            " [  4.03448276   7.25862069   8.68965517]\n",
            " [  4.93103448   8.17241379   8.93103448]\n",
            " [  6.93103448  10.20689655  11.37931034]\n",
            " [  6.51724138   9.4137931   10.24137931]\n",
            " [  8.25862069  11.55172414  13.18965517]\n",
            " [  3.96551724   5.17241379   9.72413793]\n",
            " [ 10.44827586  10.01724138   5.5862069 ]\n",
            " [  2.89655172   4.68965517   4.55172414]\n",
            " [ 10.5862069   10.89655172   8.72413793]\n",
            " [  6.24137931   5.17241379   7.37931034]\n",
            " [  2.79310345   4.27586207   9.4137931 ]\n",
            " [  5.86206897  11.72413793  12.06896552]\n",
            " [ 13.27586207  10.03448276  14.48275862]\n",
            " [  8.43103448   8.06896552   5.20689655]\n",
            " [  2.55172414   2.93103448   6.        ]\n",
            " [  4.03448276   8.68965517   7.        ]\n",
            " [  8.93103448   4.79310345   3.06896552]]\n"
          ]
        },
        {
          "output_type": "display_data",
          "data": {
            "image/png": "[encoded data removed]",
            "text/plain": [
              "<Figure size 432x288 with 1 Axes>"
            ]
          },
          "metadata": {
            "needs_background": "light"
          }
        },
        {
          "output_type": "stream",
          "name": "stdout",
          "text": [
            "Diferencias medias\n",
            "[[  6.75862069   6.93103448   6.96551724]\n",
            " [  4.72413793   4.68965517   4.4137931 ]\n",
            " [  4.03448276   3.68965517   3.5862069 ]\n",
            " [  5.44827586   5.4137931    5.68965517]\n",
            " [  9.17241379   9.44827586   9.4137931 ]\n",
            " [ 15.68965517  16.03448276  17.5       ]\n",
            " [  4.20689655   6.65517241   8.06896552]\n",
            " [  4.37931034   6.4137931    7.65517241]\n",
            " [  3.37931034   5.27586207   5.68965517]\n",
            " [  5.34482759   8.65517241   9.24137931]\n",
            " [  7.89655172  12.96551724  12.96551724]\n",
            " [ 10.27586207  14.44827586  15.44827586]\n",
            " [  6.96551724   8.62068966  13.70689655]\n",
            " [ 11.79310345  11.5862069    7.24137931]\n",
            " [  2.44827586   2.93103448   3.03448276]\n",
            " [  6.65517241   7.31034483   6.13793103]\n",
            " [  5.96551724   3.65517241   8.03448276]\n",
            " [  4.51724138   5.82758621  13.10344828]\n",
            " [  8.31034483  14.          15.89655172]\n",
            " [ 15.24137931  11.24137931  17.05172414]\n",
            " [ 10.93103448   9.86206897   5.68965517]\n",
            " [  3.27586207   3.13793103   4.96551724]\n",
            " [  3.12068966   4.48275862   4.17241379]\n",
            " [ 11.34482759   6.51724138   4.03448276]]\n"
          ]
        },
        {
          "output_type": "display_data",
          "data": {
            "image/png": "[encoded data removed]",
            "text/plain": [
              "<Figure size 432x288 with 1 Axes>"
            ]
          },
          "metadata": {
            "needs_background": "light"
          }
        },
        {
          "output_type": "stream",
          "name": "stdout",
          "text": [
            "Diferencias medias\n",
            "[[  9.65517241   9.06896552   9.51724138]\n",
            " [  7.34482759   7.20689655   7.        ]\n",
            " [  5.70689655   5.5862069    5.44827586]\n",
            " [  2.5862069    2.62068966   2.79310345]\n",
            " [  6.55172414   6.68965517   7.75862069]\n",
            " [ 12.27586207  12.17241379  13.75862069]\n",
            " [  1.75862069   2.93103448   4.13793103]\n",
            " [  1.62068966   2.65517241   3.72413793]\n",
            " [  3.79310345   5.51724138   6.20689655]\n",
            " [  5.10344828   6.72413793   7.68965517]\n",
            " [  5.72413793   6.72413793   7.34482759]\n",
            " [  6.51724138   8.           8.72413793]\n",
            " [  2.5862069    3.65517241   5.20689655]\n",
            " [  6.37931034   6.4137931    5.13793103]\n",
            " [  2.27586207   4.89655172   4.55172414]\n",
            " [  8.17241379   7.82758621   8.27586207]\n",
            " [  3.55172414   4.20689655   5.96551724]\n",
            " [  1.79310345   2.34482759   6.18965517]\n",
            " [  4.           7.20689655   8.27586207]\n",
            " [  7.68965517   7.17241379   8.4137931 ]\n",
            " [  4.44827586   4.17241379   3.05172414]\n",
            " [  1.22413793   1.55172414   3.03448276]\n",
            " [  2.51724138   4.20689655   4.24137931]\n",
            " [  4.81034483   3.36206897   2.93103448]]\n"
          ]
        },
        {
          "output_type": "display_data",
          "data": {
            "image/png": "[encoded data removed]",
            "text/plain": [
              "<Figure size 432x288 with 1 Axes>"
            ]
          },
          "metadata": {
            "needs_background": "light"
          }
        },
        {
          "output_type": "stream",
          "name": "stdout",
          "text": [
            "Diferencias medias\n",
            "[[  2.17241379   3.17241379   3.93103448]\n",
            " [  1.68965517   1.68965517   1.62068966]\n",
            " [  3.13793103   2.89655172   2.51724138]\n",
            " [  3.79310345   3.96551724   3.86206897]\n",
            " [  4.48275862   4.           4.03448276]\n",
            " [  6.79310345   6.68965517   7.51724138]\n",
            " [  2.31034483   4.03448276   4.75862069]\n",
            " [  3.           5.68965517   7.10344828]\n",
            " [  3.24137931   6.48275862   7.4137931 ]\n",
            " [  2.72413793   5.72413793   6.13793103]\n",
            " [  3.17241379   6.13793103   6.32758621]\n",
            " [  4.24137931   7.68965517   8.86206897]\n",
            " [  2.86206897   4.10344828   8.65517241]\n",
            " [  9.13793103   8.96551724   4.03448276]\n",
            " [  1.51724138   4.17241379   3.31034483]\n",
            " [  6.03448276   6.82758621   4.48275862]\n",
            " [  4.5862069    1.62068966   5.05172414]\n",
            " [  2.10344828   3.34482759   7.06896552]\n",
            " [  4.10344828  10.48275862  11.37931034]\n",
            " [  9.82758621   5.89655172  11.89655172]\n",
            " [  6.75862069   6.17241379   3.4137931 ]\n",
            " [  2.51724138   2.86206897   5.86206897]\n",
            " [  1.89655172   7.65517241   4.96551724]\n",
            " [  7.5862069    3.20689655   1.48275862]]\n"
          ]
        },
        {
          "output_type": "display_data",
          "data": {
            "image/png": "[encoded data removed]",
            "text/plain": [
              "<Figure size 432x288 with 1 Axes>"
            ]
          },
          "metadata": {
            "needs_background": "light"
          }
        },
        {
          "output_type": "stream",
          "name": "stdout",
          "text": [
            "Diferencias medias\n",
            "[[  4.56896552   6.27586207   6.17241379]\n",
            " [  2.72413793   3.44827586   3.55172414]\n",
            " [  2.75862069   2.86206897   2.44827586]\n",
            " [  3.68965517   3.34482759   3.93103448]\n",
            " [  6.13793103   5.17241379   5.20689655]\n",
            " [  8.62068966   7.24137931   7.68965517]\n",
            " [  3.           5.06896552   5.72413793]\n",
            " [  3.01724138   5.03448276   5.44827586]\n",
            " [  1.62068966   2.89655172   4.13793103]\n",
            " [  2.5862069    5.46551724   5.89655172]\n",
            " [  3.86206897   8.48275862   8.13793103]\n",
            " [  5.86206897   9.10344828   9.55172414]\n",
            " [  4.37931034   6.27586207  11.32758621]\n",
            " [ 10.           9.55172414   5.17241379]\n",
            " [  1.31034483   2.62068966   2.75862069]\n",
            " [  3.89655172   4.10344828   3.31034483]\n",
            " [  3.17241379   1.93103448   4.20689655]\n",
            " [  2.79310345   3.96551724  11.20689655]\n",
            " [  5.31034483  11.4137931   12.96551724]\n",
            " [ 13.10344828   9.06896552  15.48275862]\n",
            " [  9.48275862   8.72413793   4.53448276]\n",
            " [  2.24137931   1.68965517   3.55172414]\n",
            " [  1.27586207   4.24137931   3.51724138]\n",
            " [  9.03448276   3.96551724   1.96551724]]\n"
          ]
        },
        {
          "output_type": "display_data",
          "data": {
            "image/png": "[encoded data removed]",
            "text/plain": [
              "<Figure size 432x288 with 1 Axes>"
            ]
          },
          "metadata": {
            "needs_background": "light"
          }
        },
        {
          "output_type": "stream",
          "name": "stdout",
          "text": [
            "Diferencias medias\n",
            "[[ 2.4137931   3.27586207  3.27586207]\n",
            " [ 2.03448276  1.86206897  1.82758621]\n",
            " [ 3.68965517  3.68965517  3.25862069]\n",
            " [ 3.10344828  3.20689655  3.44827586]\n",
            " [ 2.60344828  2.93103448  2.86206897]\n",
            " [ 4.10344828  3.51724138  4.37931034]\n",
            " [ 1.31034483  2.82758621  3.        ]\n",
            " [ 1.31034483  2.5862069   4.03448276]\n",
            " [ 2.37931034  5.15517241  5.65517241]\n",
            " [ 1.4137931   3.06896552  3.75862069]\n",
            " [ 1.62068966  2.86206897  3.24137931]\n",
            " [ 2.62068966  3.77586207  4.62068966]\n",
            " [ 2.13793103  2.93103448  6.20689655]\n",
            " [ 4.20689655  4.13793103  2.53448276]\n",
            " [ 1.65517241  4.48275862  4.55172414]\n",
            " [ 3.82758621  3.75862069  3.82758621]\n",
            " [ 1.44827586  1.55172414  2.86206897]\n",
            " [ 1.62068966  2.10344828  6.10344828]\n",
            " [ 3.06896552  6.34482759  7.34482759]\n",
            " [ 4.03448276  2.86206897  4.37931034]\n",
            " [ 3.75862069  3.68965517  1.89655172]\n",
            " [ 1.55172414  1.68965517  2.51724138]\n",
            " [ 1.31034483  2.9137931   2.17241379]\n",
            " [ 2.75862069  1.51724138  1.75862069]]\n"
          ]
        },
        {
          "output_type": "display_data",
          "data": {
            "image/png": "[encoded data removed]",
            "text/plain": [
              "<Figure size 432x288 with 1 Axes>"
            ]
          },
          "metadata": {
            "needs_background": "light"
          }
        },
        {
          "output_type": "stream",
          "name": "stdout",
          "text": [
            "Diferencias medias\n",
            "[[ 14.68965517  12.5862069   11.65517241]\n",
            " [ 10.5862069    9.36206897   8.31034483]\n",
            " [  6.72413793   6.20689655   5.62068966]\n",
            " [  4.           4.03448276   3.75862069]\n",
            " [  6.27586207   7.03448276   8.03448276]\n",
            " [ 13.89655172  14.60344828  17.65517241]\n",
            " [  2.4137931    3.79310345   5.        ]\n",
            " [  2.62068966   5.55172414   6.96551724]\n",
            " [  4.13793103   6.20689655   6.34482759]\n",
            " [  6.79310345  10.72413793  11.03448276]\n",
            " [  6.79310345  10.68965517  10.55172414]\n",
            " [  8.20689655  10.82758621  12.24137931]\n",
            " [  2.75862069   3.82758621   7.62068966]\n",
            " [ 10.72413793  10.44827586   4.68965517]\n",
            " [  2.48275862   4.37931034   4.75862069]\n",
            " [ 10.          11.96551724   9.20689655]\n",
            " [  4.03448276   4.5862069    7.93103448]\n",
            " [  2.79310345   4.37931034   7.37931034]\n",
            " [  3.65517241  10.03448276   9.06896552]\n",
            " [ 16.10344828  11.          19.03448276]\n",
            " [  8.74137931   8.86206897   3.86206897]\n",
            " [  1.5862069    1.89655172   4.75862069]\n",
            " [  6.10344828  11.37931034  10.4137931 ]\n",
            " [  7.72413793   2.89655172   2.27586207]]\n"
          ]
        },
        {
          "output_type": "display_data",
          "data": {
            "image/png": "[encoded data removed]",
            "text/plain": [
              "<Figure size 432x288 with 1 Axes>"
            ]
          },
          "metadata": {
            "needs_background": "light"
          }
        },
        {
          "output_type": "stream",
          "name": "stdout",
          "text": [
            "Diferencias medias\n",
            "[[  6.89655172   6.5862069    6.06896552]\n",
            " [  5.24137931   4.72413793   4.        ]\n",
            " [  3.79310345   3.75862069   3.70689655]\n",
            " [  5.29310345   4.79310345   5.06896552]\n",
            " [  8.4137931    8.93103448   9.4137931 ]\n",
            " [ 14.55172414  15.          16.65517241]\n",
            " [  3.17241379   5.96551724   6.89655172]\n",
            " [  3.27586207   5.10344828   5.93103448]\n",
            " [  3.06896552   5.55172414   7.34482759]\n",
            " [  5.82758621  10.10344828  11.89655172]\n",
            " [  8.4137931   14.27586207  15.20689655]\n",
            " [ 10.44827586  14.74137931  16.46551724]\n",
            " [  5.5862069    8.24137931  12.86206897]\n",
            " [ 11.65517241  12.44827586   7.75862069]\n",
            " [  2.65517241   3.48275862   5.34482759]\n",
            " [  6.           6.93103448   5.32758621]\n",
            " [  5.65517241   5.48275862   9.62068966]\n",
            " [  3.10344828   4.75862069  13.27586207]\n",
            " [  3.79310345  11.79310345  12.13793103]\n",
            " [ 20.68965517  16.31034483  22.79310345]\n",
            " [ 10.89655172  10.79310345   5.44827586]\n",
            " [  4.65517241   3.82758621   7.56896552]\n",
            " [  5.43103448   6.37931034   8.37931034]\n",
            " [ 10.89655172   6.44827586   4.55172414]]\n"
          ]
        },
        {
          "output_type": "display_data",
          "data": {
            "image/png": "[encoded data removed]",
            "text/plain": [
              "<Figure size 432x288 with 1 Axes>"
            ]
          },
          "metadata": {
            "needs_background": "light"
          }
        },
        {
          "output_type": "stream",
          "name": "stdout",
          "text": [
            "Diferencias medias\n",
            "[[ 11.89655172  11.89655172  11.96551724]\n",
            " [  9.17241379   9.31034483   9.24137931]\n",
            " [  7.17241379   7.44827586   7.12068966]\n",
            " [  3.34482759   3.48275862   3.22413793]\n",
            " [  5.96551724   5.82758621   6.75862069]\n",
            " [ 11.31034483  10.93103448  11.        ]\n",
            " [  1.86206897   3.65517241   4.27586207]\n",
            " [  1.62068966   2.72413793   3.68965517]\n",
            " [  3.79310345   6.20689655   6.87931034]\n",
            " [  4.86206897   6.17241379   7.06896552]\n",
            " [  5.68965517   6.75862069   8.06896552]\n",
            " [  7.           8.43103448   9.55172414]\n",
            " [  2.44827586   3.24137931   5.89655172]\n",
            " [  5.20689655   4.86206897   2.93103448]\n",
            " [  2.96551724   6.27586207   5.93103448]\n",
            " [  7.18965517   6.55172414   6.37931034]\n",
            " [  3.17241379   3.68965517   6.48275862]\n",
            " [  2.10344828   3.06896552   6.93103448]\n",
            " [  3.           6.82758621   7.72413793]\n",
            " [  8.27586207   6.39655172  10.48275862]\n",
            " [  3.03448276   3.48275862   1.51724138]\n",
            " [  1.31034483   1.68965517   3.72413793]\n",
            " [  3.89655172   5.13793103   6.05172414]\n",
            " [  3.62068966   1.82758621   1.31034483]]\n"
          ]
        },
        {
          "output_type": "display_data",
          "data": {
            "image/png": "[encoded data removed]",
            "text/plain": [
              "<Figure size 432x288 with 1 Axes>"
            ]
          },
          "metadata": {
            "needs_background": "light"
          }
        }
      ]
    },
    {
      "cell_type": "code",
      "source": [
        "from scipy.stats import f_oneway"
      ],
      "metadata": {
        "id": "H4QSspLjkOAJ"
      },
      "execution_count": 11,
      "outputs": []
    },
    {
      "cell_type": "code",
      "source": [
        "dct = {'A':[],'S':[],'B':[]}\n",
        "with open(folder_pal_cal+\"/errores_calibracion_colores.csv\", 'r') as file:\n",
        "    reader = csv.reader(file)\n",
        "    for row in reader:\n",
        "        array = np.array(row[1:],dtype=float)\n",
        "        identifier = row[0].split()[0]\n",
        "        dct[identifier].append(array)\n",
        "print(dct)"
      ],
      "metadata": {
        "colab": {
          "base_uri": "https://localhost:8080/"
        },
        "id": "R8meyKCri3Jt",
        "outputId": "fa2c204b-1711-4322-9ee4-e5f4daa5f400"
      },
      "execution_count": 12,
      "outputs": [
        {
          "output_type": "stream",
          "name": "stdout",
          "text": [
            "{'A': [array([ 10.,   7.,   6., ...,  11.,   4.,   1.]), array([ 10.,   7.,   6., ...,  11.,   4.,   1.]), array([  4.,   5.,   7., ...,  13.,   7.,   4.]), array([  7.,   6.,   7., ...,  11.,   7.,   2.])], 'S': [array([ 21.,  21.,  23., ...,  11.,   8.,   4.]), array([ 21.,  21.,  23., ...,  11.,   8.,   4.]), array([  3.,   5.,   4., ...,  10.,   5.,   0.]), array([ 26.,  24.,  19., ...,  16.,   5.,   2.])], 'B': [array([ 4.,  1.,  2., ...,  4.,  2.,  2.]), array([ 4.,  1.,  2., ...,  4.,  2.,  2.]), array([ 3. ,  3. ,  2.5, ...,  2. ,  0. ,  1. ]), array([ 8.,  3.,  1., ...,  3.,  3.,  2.])]}\n"
          ]
        }
      ]
    },
    {
      "cell_type": "code",
      "source": [
        "for key,value in dct.items():\n",
        "    print(key)\n",
        "    result = f_oneway(*dct[key])\n",
        "    print(result)"
      ],
      "metadata": {
        "colab": {
          "base_uri": "https://localhost:8080/"
        },
        "id": "9GxHrnBRkQze",
        "outputId": "6d0fe513-efe4-46c6-97e0-aede1b1a2efe"
      },
      "execution_count": 14,
      "outputs": [
        {
          "output_type": "stream",
          "name": "stdout",
          "text": [
            "A\n",
            "F_onewayResult(statistic=81.054204607310254, pvalue=1.1035153112077078e-51)\n",
            "S\n",
            "F_onewayResult(statistic=60.583478439417689, pvalue=9.689386821214972e-39)\n",
            "B\n",
            "F_onewayResult(statistic=113.68627649425353, pvalue=3.7485681391802677e-72)\n"
          ]
        }
      ]
    }
  ]
}