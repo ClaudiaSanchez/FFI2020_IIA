{
 "cells": [
  {
   "cell_type": "code",
   "execution_count": 1,
   "metadata": {},
   "outputs": [],
   "source": [
    "import pandas\n",
    "import numpy as np\n",
    "import cv2\n",
    "from scipy.stats import norm\n",
    "import os\n",
    "from os import listdir\n",
    "from os.path import isfile, join\n",
    "import matplotlib.mlab as mlab\n",
    "import math\n",
    "import xlsxwriter\n",
    "import matplotlib.pyplot as plt\n",
    "from sklearn.svm import SVC\n",
    "from scipy.stats import norm\n",
    "import matplotlib.image as mpimg\n",
    "from mpl_toolkits.mplot3d import Axes3D\n",
    "from scipy import ndimage\n",
    "\n",
    "#importing pandas as pd\n",
    "import pandas as pd\n",
    "from numpy import genfromtxt\n",
    "from io import StringIO\n",
    "import csv"
   ]
  },
  {
   "cell_type": "code",
   "execution_count": 2,
   "metadata": {},
   "outputs": [],
   "source": [
    "def get_largest_component( msk ) : \n",
    "    n_components , labels , stats , _ = cv2.connectedComponentsWithStats( msk.astype( np.uint8 ) , connectivity = 4) \n",
    "    max_area = 0\n",
    "    for i in range( 1 , n_components ) : \n",
    "        area = stats[ i , cv2.CC_STAT_AREA ] \n",
    "        if area > max_area:\n",
    "            max_area = area\n",
    "            msk = labels == i\n",
    "    return msk\n",
    "#crear una máscara \n",
    "def get_reds2(img) : \n",
    "    img = cv2.cvtColor(img, cv2.COLOR_RGB2HSV)\n",
    "    msk = np.bitwise_or(img[ :  , :  , 2] < 0 , img[ :  , :  , 2] > 0)\n",
    "    # usamos el valor y la imagen original\n",
    "    img = cv2.cvtColor(img, cv2.COLOR_HSV2RGB)\n",
    "    return msk\n",
    "#convierte en negro lo que no nos interesa en la máscara\n",
    "def blackout( img , msk ) : \n",
    "    hsv = cv2.cvtColor( img , cv2.COLOR_RGB2HSV ) \n",
    "    h , s , v = cv2.split( hsv ) \n",
    "    v[ msk ] = 0\n",
    "    hsv = cv2.merge(( h , s , v ) ) \n",
    "    img = cv2.cvtColor( hsv , cv2.COLOR_HSV2RGB ) \n",
    "    return img\n",
    "#recibe la carpeta y el nombre del archivo que deseamos segmentar\n",
    "#guarda la imagen y la regresa\n",
    "def mascaraa(path1,path2,name):\n",
    "    \n",
    "    img = cv2.imread(join(path1,name))\n",
    "    img2 = np.copy(img)\n",
    "    \n",
    "    nrows,ncols,_=img.shape\n",
    "    Ximg = np.reshape(img,(nrows*ncols,3))\n",
    "    \n",
    "    y = model.predict(Ximg)\n",
    "    yimg = np.reshape(y,(nrows,ncols))\n",
    "    \n",
    "    imgcarne = img.copy()\n",
    "    imgcarne[yimg==0,:] = 0\n",
    "    img = imgcarne\n",
    "    img = cv2.cvtColor(img, cv2.COLOR_BGR2RGB)\n",
    "    '''\n",
    "    plt.figure()\n",
    "    plt.imshow(img)\n",
    "    plt.show()\n",
    "    '''\n",
    "    mask =  get_reds2(img)\n",
    "    global new\n",
    "    new = get_largest_component(mask)\n",
    "    new = ndimage.binary_fill_holes(new).astype(int)\n",
    "    new[new != 0] = 255\n",
    "    res = new < 255\n",
    "    x,y = np.where(res)\n",
    "    '''\n",
    "    plt.figure()\n",
    "    plt.imshow(new,cmap=\"gray\")\n",
    "    plt.show()\n",
    "    '''\n",
    "    #x,y = np.where(x)\n",
    "    #print(x.shape,y.shape)\n",
    "    \n",
    "    img2[x,y] = 0\n",
    "    '''\n",
    "    plt.figure()\n",
    "    plt.imshow(img2)\n",
    "    plt.show()\n",
    "    '''\n",
    "    \n",
    "    os.chdir(path2)\n",
    "    cv2.imwrite(name[0:-3] + \"PNG\", img2)\n",
    "    return img2\n",
    "\n",
    "# guarda la segmentación\n",
    "#en una carpeta llamada segmentacion\n",
    "#recibe a fila del excel que se desea segmentar y el tipo de\n",
    "#corte que es\n",
    "def pormuestra(arr,t,path1,path2):#t es si es cabina o afuera\n",
    "    res = []\n",
    "    for i in range(len(arr) - 3):\n",
    "        aux = arr[1];\n",
    "        aux = '0'+aux;\n",
    "        ayuda = int(float(arr[3+i]))\n",
    "        ayuda = str(ayuda)\n",
    "        aux = ayuda+'_'+arr[0]+aux+'_'+arr[2]+'_'+t+'.JPG';\n",
    "        res.append(aux)\n",
    "    \n",
    "    #print(res)\n",
    "    #imgs = []\n",
    "    for nombre in res:\n",
    "        print(\"Procesando:\",nombre)\n",
    "        img = mascaraa(path1,path2,nombre)\n",
    "        "
   ]
  },
  {
   "cell_type": "markdown",
   "metadata": {},
   "source": [
    "# Entrenamiento SVC"
   ]
  },
  {
   "cell_type": "code",
   "execution_count": 3,
   "metadata": {},
   "outputs": [
    {
     "data": {
      "text/plain": [
       "SVC()"
      ]
     },
     "execution_count": 3,
     "metadata": {},
     "output_type": "execute_result"
    }
   ],
   "source": [
    "carne = cv2.imread('fotos_para_entrenar/carne.JPG')\n",
    "fondo = cv2.imread('fotos_para_entrenar/fondo.JPG') #fotos de la carne y el fondo\n",
    "\n",
    "nrows,ncols,_= carne.shape\n",
    "Xcarne = np.reshape(carne,(nrows*ncols,3))\n",
    "nrows,ncols,_= fondo.shape\n",
    "Xfondo = np.reshape(fondo,(nrows*ncols,3))#reshape\n",
    "\n",
    "idx = np.random.permutation(nrows*ncols)[:5000]\n",
    "Xfondo = Xfondo[idx,:]\n",
    "Xcarne = Xcarne[idx,:]\n",
    "\n",
    "X = np.concatenate((Xcarne,Xfondo),axis=0)\n",
    "y = np.zeros(10000) #para distiguir cual es fondo y cual carne\n",
    "y[:5000] = 1\n",
    "\n",
    "model = SVC()\n",
    "model.fit(X,y)#entrenamiento"
   ]
  },
  {
   "cell_type": "code",
   "execution_count": 4,
   "metadata": {},
   "outputs": [],
   "source": [
    "\n",
    "#os.mkdir(\"segmentadas\")"
   ]
  },
  {
   "cell_type": "markdown",
   "metadata": {},
   "source": [
    "# Para cabina"
   ]
  },
  {
   "cell_type": "code",
   "execution_count": null,
   "metadata": {},
   "outputs": [
    {
     "name": "stdout",
     "output_type": "stream",
     "text": [
      "Procesando: 20210830_A01_1_c.JPG\n",
      "Procesando: 20210901_A01_1_c.JPG\n"
     ]
    }
   ],
   "source": [
    "#Leo los excels, los convierto a csv y genero\n",
    "#un arreglo a partir de eso\n",
    "read_file = pd.read_excel (\"cabina.xlsx\")\n",
    "  \n",
    "read_file.to_csv (\"cabina.csv\", index = None,header=True)\n",
    "\n",
    "\n",
    "csvfile = open('cabina.csv', 'r')\n",
    "reader = csv.reader(csvfile, delimiter=',')\n",
    "my_list = list(reader)\n",
    "\n",
    "my_list = np.array(my_list)\n",
    "\n",
    "my_list[0][1] = my_list[0][1][1:]\n",
    "for i in range(my_list.shape[0]):\n",
    "    \n",
    "    pormuestra(my_list[i],'c',r'C:\\Users\\PC Gamer\\Desktop\\Up7mo\\Carnes\\fotos_arrachera',r'C:\\Users\\PC Gamer\\Desktop\\Up7mo\\Carnes\\segmentadas')#'c' porque es en cabina\n",
    "    "
   ]
  },
  {
   "cell_type": "markdown",
   "metadata": {},
   "source": [
    "# Para afuera"
   ]
  },
  {
   "cell_type": "code",
   "execution_count": null,
   "metadata": {},
   "outputs": [],
   "source": [
    "#Leo los excels, los convierto a csv y genero\n",
    "#un arreglo a partir de eso\n",
    "os.chdir(r'C:\\Users\\PC Gamer\\Desktop\\Up7mo\\Carnes')\n",
    "read_file = pd.read_excel (\"afuera.xlsx\")\n",
    "  \n",
    "read_file.to_csv (\"afuera.csv\", index = None,header=True)\n",
    "\n",
    "\n",
    "csvfile = open('afuera.csv', 'r')\n",
    "reader = csv.reader(csvfile, delimiter=',')\n",
    "my_list = list(reader)\n",
    "\n",
    "my_list = np.array(my_list)\n",
    "\n",
    "my_list[0][1] = my_list[0][1][1:]\n",
    "print\n",
    "\n",
    "for i in range(my_list.shape[0]):\n",
    "    \n",
    "    pormuestra(my_list[i],'a',r'C:\\Users\\PC Gamer\\Desktop\\Up7mo\\Carnes\\fotos_sirloin',r'C:\\Users\\PC Gamer\\Desktop\\Up7mo\\Carnes\\segmentadas')"
   ]
  },
  {
   "cell_type": "code",
   "execution_count": null,
   "metadata": {},
   "outputs": [],
   "source": [
    "plt.figure()\n",
    "plt.imshow(new,cmap=\"gray\")\n",
    "plt.show()\n",
    "Newnew = np.copy(new)\n",
    "img = cv2.imread(r\"C:\\Users\\PC Gamer\\Desktop\\Up7mo\\Carnes\\20210830_A01_1_c.JPG\")\n",
    "img = cv2.cvtColor(img,cv2.COLOR_BGR2RGB)\n",
    "plt.figure()\n",
    "plt.imshow(img)\n",
    "plt.show()"
   ]
  },
  {
   "cell_type": "code",
   "execution_count": null,
   "metadata": {},
   "outputs": [],
   "source": [
    "print(Newnew.shape)\n",
    "print(Newnew[3864//2,5152//2])"
   ]
  },
  {
   "cell_type": "code",
   "execution_count": null,
   "metadata": {},
   "outputs": [],
   "source": [
    "res = new < 255\n",
    "x,y = np.where(res)\n",
    "plt.figure()\n",
    "plt.imshow(new)\n",
    "plt.show()\n",
    "#x,y = np.where(x)\n",
    "#print(x.shape,y.shape)\n",
    "img2 = np.copy(img)\n",
    "img2[x,y] = 0\n",
    "plt.figure()\n",
    "plt.imshow(img2)\n",
    "plt.show()"
   ]
  },
  {
   "cell_type": "code",
   "execution_count": null,
   "metadata": {},
   "outputs": [],
   "source": []
  }
 ],
 "metadata": {
  "kernelspec": {
   "display_name": "Python 3",
   "language": "python",
   "name": "python3"
  },
  "language_info": {
   "codemirror_mode": {
    "name": "ipython",
    "version": 3
   },
   "file_extension": ".py",
   "mimetype": "text/x-python",
   "name": "python",
   "nbconvert_exporter": "python",
   "pygments_lexer": "ipython3",
   "version": "3.8.5"
  }
 },
 "nbformat": 4,
 "nbformat_minor": 4
}
